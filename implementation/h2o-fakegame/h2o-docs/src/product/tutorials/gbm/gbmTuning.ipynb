{
 "cells": [
  {
   "cell_type": "markdown",
   "metadata": {},
   "source": [
    "# H2O GBM Tuning Tutorial for Python\n",
    "\n",
    "### Arno Candel, PhD, Chief Architect, H2O.ai\n",
    "### Ported to Python by Navdeep Gill, M.S., Hacker/Data Scientist, H2O.ai\n",
    "\n",
    "In this tutorial, we show how to build a well-tuned H2O GBM model for a supervised classification task. We specifically don't focus on feature engineering and use a small dataset to allow you to reproduce these results in a few minutes on a laptop. This script can be directly transferred to datasets that are hundreds of GBs large and H2O clusters with dozens of compute nodes.\n",
    "\n",
    "You can download the source [from H2O's github repository](https://github.com/h2oai/h2o-3/blob/master/h2o-docs/src/product/tutorials/gbm/gbmTuning.ipynb).\n",
    "\n",
    "Original [R Markdown version here](https://github.com/h2oai/h2o-3/blob/master/h2o-docs/src/product/tutorials/gbm/gbmTuning.Rmd).\n",
    "\n",
    "## Installation of the H2O Python Package\n",
    "Either download H2O from [H2O.ai's website](http://h2o.ai/download) or install the latest version of H2O into Python with the following set of commands:"
   ]
  },
  {
   "cell_type": "markdown",
   "metadata": {
    "collapsed": true
   },
   "source": [
    "Install dependencies from command line (prepending with `sudo` if needed):\n",
    "\n",
    "```\n",
    "[sudo] pip install -U requests\n",
    "[sudo] pip install -U tabulate\n",
    "[sudo] pip install -U future\n",
    "[sudo] pip install -U six\n",
    "```\n",
    "\n",
    "The following command removes the H2O module for Python.\n",
    "```\n",
    "[sudo] pip uninstall h2o\n",
    "```\n",
    "\n",
    "Next, use pip to install this version of the H2O Python module.\n",
    "```\n",
    "[sudo] pip install http://h2o-release.s3.amazonaws.com/h2o/rel-turchin/8/Python/h2o-3.8.2.8-py2.py3-none-any.whl\n",
    "```"
   ]
  },
  {
   "cell_type": "markdown",
   "metadata": {},
   "source": [
    "## Launch an H2O cluster on localhost"
   ]
  },
  {
   "cell_type": "code",
   "execution_count": 1,
   "metadata": {
    "collapsed": false
   },
   "outputs": [
    {
     "name": "stdout",
     "output_type": "stream",
     "text": [
      "\n",
      "\n",
      "No instance found at ip and port: localhost:54321. Trying to start local jar...\n",
      "\n",
      "\n",
      "JVM stdout: /var/folders/fm/9q0qk_xs0wd07zr2v6d5mfv40000gn/T/tmpPEJCyq/h2o_arno_started_from_python.out\n",
      "JVM stderr: /var/folders/fm/9q0qk_xs0wd07zr2v6d5mfv40000gn/T/tmpU_XS5d/h2o_arno_started_from_python.err\n",
      "Using ice_root: /var/folders/fm/9q0qk_xs0wd07zr2v6d5mfv40000gn/T/tmp59BuIH\n",
      "\n",
      "\n",
      "Java Version: java version \"1.8.0_60\"\n",
      "Java(TM) SE Runtime Environment (build 1.8.0_60-b27)\n",
      "Java HotSpot(TM) 64-Bit Server VM (build 25.60-b23, mixed mode)\n",
      "\n",
      "\n",
      "Starting H2O JVM and connecting: ............. Connection successful!\n"
     ]
    },
    {
     "name": "stderr",
     "output_type": "stream",
     "text": [
      "/usr/local/lib/python2.7/site-packages/IPython/core/formatters.py:92: DeprecationWarning: DisplayFormatter._ipython_display_formatter_default is deprecated: use @default decorator instead.\n",
      "  def _ipython_display_formatter_default(self):\n",
      "/usr/local/lib/python2.7/site-packages/IPython/core/formatters.py:98: DeprecationWarning: DisplayFormatter._formatters_default is deprecated: use @default decorator instead.\n",
      "  def _formatters_default(self):\n",
      "/usr/local/lib/python2.7/site-packages/IPython/core/formatters.py:677: DeprecationWarning: PlainTextFormatter._deferred_printers_default is deprecated: use @default decorator instead.\n",
      "  def _deferred_printers_default(self):\n",
      "/usr/local/lib/python2.7/site-packages/IPython/core/formatters.py:669: DeprecationWarning: PlainTextFormatter._singleton_printers_default is deprecated: use @default decorator instead.\n",
      "  def _singleton_printers_default(self):\n",
      "/usr/local/lib/python2.7/site-packages/IPython/core/formatters.py:672: DeprecationWarning: PlainTextFormatter._type_printers_default is deprecated: use @default decorator instead.\n",
      "  def _type_printers_default(self):\n",
      "/usr/local/lib/python2.7/site-packages/IPython/core/formatters.py:669: DeprecationWarning: PlainTextFormatter._singleton_printers_default is deprecated: use @default decorator instead.\n",
      "  def _singleton_printers_default(self):\n",
      "/usr/local/lib/python2.7/site-packages/IPython/core/formatters.py:672: DeprecationWarning: PlainTextFormatter._type_printers_default is deprecated: use @default decorator instead.\n",
      "  def _type_printers_default(self):\n",
      "/usr/local/lib/python2.7/site-packages/IPython/core/formatters.py:677: DeprecationWarning: PlainTextFormatter._deferred_printers_default is deprecated: use @default decorator instead.\n",
      "  def _deferred_printers_default(self):\n"
     ]
    },
    {
     "data": {
      "text/html": [
       "<div style=\"overflow:auto\"><table style=\"width:50%\"><tr><td>H2O cluster uptime: </td>\n",
       "<td>1 seconds 472 milliseconds </td></tr>\n",
       "<tr><td>H2O cluster version: </td>\n",
       "<td>3.8.2.8</td></tr>\n",
       "<tr><td>H2O cluster name: </td>\n",
       "<td>H2O_started_from_python_arno_txj757</td></tr>\n",
       "<tr><td>H2O cluster total nodes: </td>\n",
       "<td>1</td></tr>\n",
       "<tr><td>H2O cluster total free memory: </td>\n",
       "<td>3.56 GB</td></tr>\n",
       "<tr><td>H2O cluster total cores: </td>\n",
       "<td>8</td></tr>\n",
       "<tr><td>H2O cluster allowed cores: </td>\n",
       "<td>8</td></tr>\n",
       "<tr><td>H2O cluster healthy: </td>\n",
       "<td>True</td></tr>\n",
       "<tr><td>H2O Connection ip: </td>\n",
       "<td>127.0.0.1</td></tr>\n",
       "<tr><td>H2O Connection port: </td>\n",
       "<td>54321</td></tr>\n",
       "<tr><td>H2O Connection proxy: </td>\n",
       "<td>None</td></tr>\n",
       "<tr><td>Python Version: </td>\n",
       "<td>2.7.11</td></tr></table></div>"
      ],
      "text/plain": [
       "------------------------------  -----------------------------------\n",
       "H2O cluster uptime:             1 seconds 472 milliseconds\n",
       "H2O cluster version:            3.8.2.8\n",
       "H2O cluster name:               H2O_started_from_python_arno_txj757\n",
       "H2O cluster total nodes:        1\n",
       "H2O cluster total free memory:  3.56 GB\n",
       "H2O cluster total cores:        8\n",
       "H2O cluster allowed cores:      8\n",
       "H2O cluster healthy:            True\n",
       "H2O Connection ip:              127.0.0.1\n",
       "H2O Connection port:            54321\n",
       "H2O Connection proxy:\n",
       "Python Version:                 2.7.11\n",
       "------------------------------  -----------------------------------"
      ]
     },
     "metadata": {},
     "output_type": "display_data"
    }
   ],
   "source": [
    "import h2o\n",
    "import numpy as np\n",
    "import math\n",
    "h2o.init(nthreads=-1, strict_version_check=True)\n",
    "## optional: connect to a running H2O cluster\n",
    "#h2o.init(ip=\"mycluster\", port=55555)"
   ]
  },
  {
   "cell_type": "markdown",
   "metadata": {
    "collapsed": true
   },
   "source": [
    "## Import the data into H2O \n",
    "Everything is scalable and distributed from now on. All processing is done on the fully multi-threaded and distributed H2O Java-based backend and can be scaled to large datasets on large compute clusters.\n",
    "Here, we use a small public dataset ([Titanic](https://stat.ethz.ch/R-manual/R-devel/library/datasets/html/Titanic.html)), but you can use datasets that are hundreds of GBs large."
   ]
  },
  {
   "cell_type": "code",
   "execution_count": 2,
   "metadata": {
    "collapsed": false
   },
   "outputs": [
    {
     "name": "stdout",
     "output_type": "stream",
     "text": [
      "\n",
      "Parse Progress: [##################################################] 100%\n",
      "[1309, 14]\n"
     ]
    },
    {
     "data": {
      "text/html": [
       "<table>\n",
       "<tr><th style=\"text-align: right;\">  pclass</th><th style=\"text-align: right;\">  survived</th><th>name                                           </th><th>sex   </th><th style=\"text-align: right;\">    age</th><th style=\"text-align: right;\">  sibsp</th><th style=\"text-align: right;\">  parch</th><th style=\"text-align: right;\">  ticket</th><th style=\"text-align: right;\">    fare</th><th>cabin  </th><th>embarked  </th><th style=\"text-align: right;\">  boat</th><th style=\"text-align: right;\">  body</th><th>home.dest                      </th></tr>\n",
       "<tr><td style=\"text-align: right;\">       1</td><td style=\"text-align: right;\">         1</td><td>Allen  Miss. Elisabeth Walton                  </td><td>female</td><td style=\"text-align: right;\">29     </td><td style=\"text-align: right;\">      0</td><td style=\"text-align: right;\">      0</td><td style=\"text-align: right;\">   24160</td><td style=\"text-align: right;\">211.338 </td><td>B5     </td><td>S         </td><td style=\"text-align: right;\">     2</td><td style=\"text-align: right;\">   nan</td><td>St Louis  MO                   </td></tr>\n",
       "<tr><td style=\"text-align: right;\">       1</td><td style=\"text-align: right;\">         1</td><td>Allison  Master. Hudson Trevor                 </td><td>male  </td><td style=\"text-align: right;\"> 0.9167</td><td style=\"text-align: right;\">      1</td><td style=\"text-align: right;\">      2</td><td style=\"text-align: right;\">  113781</td><td style=\"text-align: right;\">151.55  </td><td>C22 C26</td><td>S         </td><td style=\"text-align: right;\">    11</td><td style=\"text-align: right;\">   nan</td><td>Montreal  PQ / Chesterville  ON</td></tr>\n",
       "<tr><td style=\"text-align: right;\">       1</td><td style=\"text-align: right;\">         0</td><td>Allison  Miss. Helen Loraine                   </td><td>female</td><td style=\"text-align: right;\"> 2     </td><td style=\"text-align: right;\">      1</td><td style=\"text-align: right;\">      2</td><td style=\"text-align: right;\">  113781</td><td style=\"text-align: right;\">151.55  </td><td>C22 C26</td><td>S         </td><td style=\"text-align: right;\">   nan</td><td style=\"text-align: right;\">   nan</td><td>Montreal  PQ / Chesterville  ON</td></tr>\n",
       "<tr><td style=\"text-align: right;\">       1</td><td style=\"text-align: right;\">         0</td><td>Allison  Mr. Hudson Joshua Creighton           </td><td>male  </td><td style=\"text-align: right;\">30     </td><td style=\"text-align: right;\">      1</td><td style=\"text-align: right;\">      2</td><td style=\"text-align: right;\">  113781</td><td style=\"text-align: right;\">151.55  </td><td>C22 C26</td><td>S         </td><td style=\"text-align: right;\">   nan</td><td style=\"text-align: right;\">   135</td><td>Montreal  PQ / Chesterville  ON</td></tr>\n",
       "<tr><td style=\"text-align: right;\">       1</td><td style=\"text-align: right;\">         0</td><td>Allison  Mrs. Hudson J C (Bessie Waldo Daniels)</td><td>female</td><td style=\"text-align: right;\">25     </td><td style=\"text-align: right;\">      1</td><td style=\"text-align: right;\">      2</td><td style=\"text-align: right;\">  113781</td><td style=\"text-align: right;\">151.55  </td><td>C22 C26</td><td>S         </td><td style=\"text-align: right;\">   nan</td><td style=\"text-align: right;\">   nan</td><td>Montreal  PQ / Chesterville  ON</td></tr>\n",
       "<tr><td style=\"text-align: right;\">       1</td><td style=\"text-align: right;\">         1</td><td>Anderson  Mr. Harry                            </td><td>male  </td><td style=\"text-align: right;\">48     </td><td style=\"text-align: right;\">      0</td><td style=\"text-align: right;\">      0</td><td style=\"text-align: right;\">   19952</td><td style=\"text-align: right;\"> 26.55  </td><td>E12    </td><td>S         </td><td style=\"text-align: right;\">     3</td><td style=\"text-align: right;\">   nan</td><td>New York  NY                   </td></tr>\n",
       "<tr><td style=\"text-align: right;\">       1</td><td style=\"text-align: right;\">         1</td><td>Andrews  Miss. Kornelia Theodosia              </td><td>female</td><td style=\"text-align: right;\">63     </td><td style=\"text-align: right;\">      1</td><td style=\"text-align: right;\">      0</td><td style=\"text-align: right;\">   13502</td><td style=\"text-align: right;\"> 77.9583</td><td>D7     </td><td>S         </td><td style=\"text-align: right;\">    10</td><td style=\"text-align: right;\">   nan</td><td>Hudson  NY                     </td></tr>\n",
       "<tr><td style=\"text-align: right;\">       1</td><td style=\"text-align: right;\">         0</td><td>Andrews  Mr. Thomas Jr                         </td><td>male  </td><td style=\"text-align: right;\">39     </td><td style=\"text-align: right;\">      0</td><td style=\"text-align: right;\">      0</td><td style=\"text-align: right;\">  112050</td><td style=\"text-align: right;\">  0     </td><td>A36    </td><td>S         </td><td style=\"text-align: right;\">   nan</td><td style=\"text-align: right;\">   nan</td><td>Belfast  NI                    </td></tr>\n",
       "<tr><td style=\"text-align: right;\">       1</td><td style=\"text-align: right;\">         1</td><td>Appleton  Mrs. Edward Dale (Charlotte Lamson)  </td><td>female</td><td style=\"text-align: right;\">53     </td><td style=\"text-align: right;\">      2</td><td style=\"text-align: right;\">      0</td><td style=\"text-align: right;\">   11769</td><td style=\"text-align: right;\"> 51.4792</td><td>C101   </td><td>S         </td><td style=\"text-align: right;\">   nan</td><td style=\"text-align: right;\">   nan</td><td>Bayside  Queens  NY            </td></tr>\n",
       "<tr><td style=\"text-align: right;\">       1</td><td style=\"text-align: right;\">         0</td><td>Artagaveytia  Mr. Ramon                        </td><td>male  </td><td style=\"text-align: right;\">71     </td><td style=\"text-align: right;\">      0</td><td style=\"text-align: right;\">      0</td><td style=\"text-align: right;\">     nan</td><td style=\"text-align: right;\"> 49.5042</td><td>       </td><td>C         </td><td style=\"text-align: right;\">   nan</td><td style=\"text-align: right;\">    22</td><td>Montevideo  Uruguay            </td></tr>\n",
       "</table>"
      ]
     },
     "metadata": {},
     "output_type": "display_data"
    },
    {
     "name": "stdout",
     "output_type": "stream",
     "text": [
      "<bound method H2OFrame.head of >\n"
     ]
    },
    {
     "data": {
      "text/html": [
       "<table>\n",
       "<tr><th style=\"text-align: right;\">  pclass</th><th style=\"text-align: right;\">  survived</th><th>name                                           </th><th>sex   </th><th style=\"text-align: right;\">    age</th><th style=\"text-align: right;\">  sibsp</th><th style=\"text-align: right;\">  parch</th><th style=\"text-align: right;\">  ticket</th><th style=\"text-align: right;\">    fare</th><th>cabin  </th><th>embarked  </th><th style=\"text-align: right;\">  boat</th><th style=\"text-align: right;\">  body</th><th>home.dest                      </th></tr>\n",
       "<tr><td style=\"text-align: right;\">       1</td><td style=\"text-align: right;\">         1</td><td>Allen  Miss. Elisabeth Walton                  </td><td>female</td><td style=\"text-align: right;\">29     </td><td style=\"text-align: right;\">      0</td><td style=\"text-align: right;\">      0</td><td style=\"text-align: right;\">   24160</td><td style=\"text-align: right;\">211.338 </td><td>B5     </td><td>S         </td><td style=\"text-align: right;\">     2</td><td style=\"text-align: right;\">   nan</td><td>St Louis  MO                   </td></tr>\n",
       "<tr><td style=\"text-align: right;\">       1</td><td style=\"text-align: right;\">         1</td><td>Allison  Master. Hudson Trevor                 </td><td>male  </td><td style=\"text-align: right;\"> 0.9167</td><td style=\"text-align: right;\">      1</td><td style=\"text-align: right;\">      2</td><td style=\"text-align: right;\">  113781</td><td style=\"text-align: right;\">151.55  </td><td>C22 C26</td><td>S         </td><td style=\"text-align: right;\">    11</td><td style=\"text-align: right;\">   nan</td><td>Montreal  PQ / Chesterville  ON</td></tr>\n",
       "<tr><td style=\"text-align: right;\">       1</td><td style=\"text-align: right;\">         0</td><td>Allison  Miss. Helen Loraine                   </td><td>female</td><td style=\"text-align: right;\"> 2     </td><td style=\"text-align: right;\">      1</td><td style=\"text-align: right;\">      2</td><td style=\"text-align: right;\">  113781</td><td style=\"text-align: right;\">151.55  </td><td>C22 C26</td><td>S         </td><td style=\"text-align: right;\">   nan</td><td style=\"text-align: right;\">   nan</td><td>Montreal  PQ / Chesterville  ON</td></tr>\n",
       "<tr><td style=\"text-align: right;\">       1</td><td style=\"text-align: right;\">         0</td><td>Allison  Mr. Hudson Joshua Creighton           </td><td>male  </td><td style=\"text-align: right;\">30     </td><td style=\"text-align: right;\">      1</td><td style=\"text-align: right;\">      2</td><td style=\"text-align: right;\">  113781</td><td style=\"text-align: right;\">151.55  </td><td>C22 C26</td><td>S         </td><td style=\"text-align: right;\">   nan</td><td style=\"text-align: right;\">   135</td><td>Montreal  PQ / Chesterville  ON</td></tr>\n",
       "<tr><td style=\"text-align: right;\">       1</td><td style=\"text-align: right;\">         0</td><td>Allison  Mrs. Hudson J C (Bessie Waldo Daniels)</td><td>female</td><td style=\"text-align: right;\">25     </td><td style=\"text-align: right;\">      1</td><td style=\"text-align: right;\">      2</td><td style=\"text-align: right;\">  113781</td><td style=\"text-align: right;\">151.55  </td><td>C22 C26</td><td>S         </td><td style=\"text-align: right;\">   nan</td><td style=\"text-align: right;\">   nan</td><td>Montreal  PQ / Chesterville  ON</td></tr>\n",
       "<tr><td style=\"text-align: right;\">       1</td><td style=\"text-align: right;\">         1</td><td>Anderson  Mr. Harry                            </td><td>male  </td><td style=\"text-align: right;\">48     </td><td style=\"text-align: right;\">      0</td><td style=\"text-align: right;\">      0</td><td style=\"text-align: right;\">   19952</td><td style=\"text-align: right;\"> 26.55  </td><td>E12    </td><td>S         </td><td style=\"text-align: right;\">     3</td><td style=\"text-align: right;\">   nan</td><td>New York  NY                   </td></tr>\n",
       "<tr><td style=\"text-align: right;\">       1</td><td style=\"text-align: right;\">         1</td><td>Andrews  Miss. Kornelia Theodosia              </td><td>female</td><td style=\"text-align: right;\">63     </td><td style=\"text-align: right;\">      1</td><td style=\"text-align: right;\">      0</td><td style=\"text-align: right;\">   13502</td><td style=\"text-align: right;\"> 77.9583</td><td>D7     </td><td>S         </td><td style=\"text-align: right;\">    10</td><td style=\"text-align: right;\">   nan</td><td>Hudson  NY                     </td></tr>\n",
       "<tr><td style=\"text-align: right;\">       1</td><td style=\"text-align: right;\">         0</td><td>Andrews  Mr. Thomas Jr                         </td><td>male  </td><td style=\"text-align: right;\">39     </td><td style=\"text-align: right;\">      0</td><td style=\"text-align: right;\">      0</td><td style=\"text-align: right;\">  112050</td><td style=\"text-align: right;\">  0     </td><td>A36    </td><td>S         </td><td style=\"text-align: right;\">   nan</td><td style=\"text-align: right;\">   nan</td><td>Belfast  NI                    </td></tr>\n",
       "<tr><td style=\"text-align: right;\">       1</td><td style=\"text-align: right;\">         1</td><td>Appleton  Mrs. Edward Dale (Charlotte Lamson)  </td><td>female</td><td style=\"text-align: right;\">53     </td><td style=\"text-align: right;\">      2</td><td style=\"text-align: right;\">      0</td><td style=\"text-align: right;\">   11769</td><td style=\"text-align: right;\"> 51.4792</td><td>C101   </td><td>S         </td><td style=\"text-align: right;\">   nan</td><td style=\"text-align: right;\">   nan</td><td>Bayside  Queens  NY            </td></tr>\n",
       "<tr><td style=\"text-align: right;\">       1</td><td style=\"text-align: right;\">         0</td><td>Artagaveytia  Mr. Ramon                        </td><td>male  </td><td style=\"text-align: right;\">71     </td><td style=\"text-align: right;\">      0</td><td style=\"text-align: right;\">      0</td><td style=\"text-align: right;\">     nan</td><td style=\"text-align: right;\"> 49.5042</td><td>       </td><td>C         </td><td style=\"text-align: right;\">   nan</td><td style=\"text-align: right;\">    22</td><td>Montevideo  Uruguay            </td></tr>\n",
       "</table>"
      ]
     },
     "metadata": {},
     "output_type": "display_data"
    },
    {
     "name": "stdout",
     "output_type": "stream",
     "text": [
      "<bound method H2OFrame.tail of >\n"
     ]
    },
    {
     "data": {
      "text/html": [
       "<table>\n",
       "<tr><th style=\"text-align: right;\">  pclass</th><th style=\"text-align: right;\">  survived</th><th>name                                           </th><th>sex   </th><th style=\"text-align: right;\">    age</th><th style=\"text-align: right;\">  sibsp</th><th style=\"text-align: right;\">  parch</th><th style=\"text-align: right;\">  ticket</th><th style=\"text-align: right;\">    fare</th><th>cabin  </th><th>embarked  </th><th style=\"text-align: right;\">  boat</th><th style=\"text-align: right;\">  body</th><th>home.dest                      </th></tr>\n",
       "<tr><td style=\"text-align: right;\">       1</td><td style=\"text-align: right;\">         1</td><td>Allen  Miss. Elisabeth Walton                  </td><td>female</td><td style=\"text-align: right;\">29     </td><td style=\"text-align: right;\">      0</td><td style=\"text-align: right;\">      0</td><td style=\"text-align: right;\">   24160</td><td style=\"text-align: right;\">211.338 </td><td>B5     </td><td>S         </td><td style=\"text-align: right;\">     2</td><td style=\"text-align: right;\">   nan</td><td>St Louis  MO                   </td></tr>\n",
       "<tr><td style=\"text-align: right;\">       1</td><td style=\"text-align: right;\">         1</td><td>Allison  Master. Hudson Trevor                 </td><td>male  </td><td style=\"text-align: right;\"> 0.9167</td><td style=\"text-align: right;\">      1</td><td style=\"text-align: right;\">      2</td><td style=\"text-align: right;\">  113781</td><td style=\"text-align: right;\">151.55  </td><td>C22 C26</td><td>S         </td><td style=\"text-align: right;\">    11</td><td style=\"text-align: right;\">   nan</td><td>Montreal  PQ / Chesterville  ON</td></tr>\n",
       "<tr><td style=\"text-align: right;\">       1</td><td style=\"text-align: right;\">         0</td><td>Allison  Miss. Helen Loraine                   </td><td>female</td><td style=\"text-align: right;\"> 2     </td><td style=\"text-align: right;\">      1</td><td style=\"text-align: right;\">      2</td><td style=\"text-align: right;\">  113781</td><td style=\"text-align: right;\">151.55  </td><td>C22 C26</td><td>S         </td><td style=\"text-align: right;\">   nan</td><td style=\"text-align: right;\">   nan</td><td>Montreal  PQ / Chesterville  ON</td></tr>\n",
       "<tr><td style=\"text-align: right;\">       1</td><td style=\"text-align: right;\">         0</td><td>Allison  Mr. Hudson Joshua Creighton           </td><td>male  </td><td style=\"text-align: right;\">30     </td><td style=\"text-align: right;\">      1</td><td style=\"text-align: right;\">      2</td><td style=\"text-align: right;\">  113781</td><td style=\"text-align: right;\">151.55  </td><td>C22 C26</td><td>S         </td><td style=\"text-align: right;\">   nan</td><td style=\"text-align: right;\">   135</td><td>Montreal  PQ / Chesterville  ON</td></tr>\n",
       "<tr><td style=\"text-align: right;\">       1</td><td style=\"text-align: right;\">         0</td><td>Allison  Mrs. Hudson J C (Bessie Waldo Daniels)</td><td>female</td><td style=\"text-align: right;\">25     </td><td style=\"text-align: right;\">      1</td><td style=\"text-align: right;\">      2</td><td style=\"text-align: right;\">  113781</td><td style=\"text-align: right;\">151.55  </td><td>C22 C26</td><td>S         </td><td style=\"text-align: right;\">   nan</td><td style=\"text-align: right;\">   nan</td><td>Montreal  PQ / Chesterville  ON</td></tr>\n",
       "<tr><td style=\"text-align: right;\">       1</td><td style=\"text-align: right;\">         1</td><td>Anderson  Mr. Harry                            </td><td>male  </td><td style=\"text-align: right;\">48     </td><td style=\"text-align: right;\">      0</td><td style=\"text-align: right;\">      0</td><td style=\"text-align: right;\">   19952</td><td style=\"text-align: right;\"> 26.55  </td><td>E12    </td><td>S         </td><td style=\"text-align: right;\">     3</td><td style=\"text-align: right;\">   nan</td><td>New York  NY                   </td></tr>\n",
       "<tr><td style=\"text-align: right;\">       1</td><td style=\"text-align: right;\">         1</td><td>Andrews  Miss. Kornelia Theodosia              </td><td>female</td><td style=\"text-align: right;\">63     </td><td style=\"text-align: right;\">      1</td><td style=\"text-align: right;\">      0</td><td style=\"text-align: right;\">   13502</td><td style=\"text-align: right;\"> 77.9583</td><td>D7     </td><td>S         </td><td style=\"text-align: right;\">    10</td><td style=\"text-align: right;\">   nan</td><td>Hudson  NY                     </td></tr>\n",
       "<tr><td style=\"text-align: right;\">       1</td><td style=\"text-align: right;\">         0</td><td>Andrews  Mr. Thomas Jr                         </td><td>male  </td><td style=\"text-align: right;\">39     </td><td style=\"text-align: right;\">      0</td><td style=\"text-align: right;\">      0</td><td style=\"text-align: right;\">  112050</td><td style=\"text-align: right;\">  0     </td><td>A36    </td><td>S         </td><td style=\"text-align: right;\">   nan</td><td style=\"text-align: right;\">   nan</td><td>Belfast  NI                    </td></tr>\n",
       "<tr><td style=\"text-align: right;\">       1</td><td style=\"text-align: right;\">         1</td><td>Appleton  Mrs. Edward Dale (Charlotte Lamson)  </td><td>female</td><td style=\"text-align: right;\">53     </td><td style=\"text-align: right;\">      2</td><td style=\"text-align: right;\">      0</td><td style=\"text-align: right;\">   11769</td><td style=\"text-align: right;\"> 51.4792</td><td>C101   </td><td>S         </td><td style=\"text-align: right;\">   nan</td><td style=\"text-align: right;\">   nan</td><td>Bayside  Queens  NY            </td></tr>\n",
       "<tr><td style=\"text-align: right;\">       1</td><td style=\"text-align: right;\">         0</td><td>Artagaveytia  Mr. Ramon                        </td><td>male  </td><td style=\"text-align: right;\">71     </td><td style=\"text-align: right;\">      0</td><td style=\"text-align: right;\">      0</td><td style=\"text-align: right;\">     nan</td><td style=\"text-align: right;\"> 49.5042</td><td>       </td><td>C         </td><td style=\"text-align: right;\">   nan</td><td style=\"text-align: right;\">    22</td><td>Montevideo  Uruguay            </td></tr>\n",
       "</table>"
      ]
     },
     "metadata": {},
     "output_type": "display_data"
    },
    {
     "name": "stdout",
     "output_type": "stream",
     "text": [
      "<bound method H2OFrame.describe of >\n",
      "[u'pclass', u'sex', u'age', u'sibsp', u'parch', u'ticket', u'fare', u'cabin', u'embarked', u'boat', u'body', u'home.dest']\n"
     ]
    }
   ],
   "source": [
    "## 'path' can point to a local file, hdfs, s3, nfs, Hive, directories, etc.\n",
    "df = h2o.import_file(path = \"http://s3.amazonaws.com/h2o-public-test-data/smalldata/gbm_test/titanic.csv\")\n",
    "print df.dim\n",
    "print df.head\n",
    "print df.tail\n",
    "print df.describe\n",
    "\n",
    "## pick a response for the supervised problem\n",
    "response = \"survived\"\n",
    "\n",
    "## the response variable is an integer, we will turn it into a categorical/factor for binary classification\n",
    "df[response] = df[response].asfactor()           \n",
    "\n",
    "## use all other columns (except for the name & the response column (\"survived\")) as predictors\n",
    "predictors = df.columns\n",
    "del predictors[1:3]\n",
    "print predictors"
   ]
  },
  {
   "cell_type": "markdown",
   "metadata": {},
   "source": [
    "From now on, everything is generic and directly applies to most datasets. We assume that all feature engineering is done at this stage and focus on model tuning. For multi-class problems, you can use `h2o.logloss()` or `h2o.confusion_matrix()` instead of `h2o.auc()` and for regression problems, you can use `h2o.mean_residual_deviance()` or `h2o.mse()`."
   ]
  },
  {
   "cell_type": "markdown",
   "metadata": {},
   "source": [
    "## Split the data for Machine Learning\n",
    "We split the data into three pieces: 60% for training, 20% for validation, 20% for final testing. \n",
    "Here, we use random splitting, but this assumes i.i.d. data. If this is not the case (e.g., when events span across multiple rows or data has a time structure), you'll have to sample your data non-randomly."
   ]
  },
  {
   "cell_type": "code",
   "execution_count": 3,
   "metadata": {
    "collapsed": false
   },
   "outputs": [],
   "source": [
    "train, valid, test = df.split_frame(\n",
    "    ratios=[0.6,0.2], \n",
    "    seed=1234, \n",
    "    destination_frames=['train.hex','valid.hex','test.hex']\n",
    ")"
   ]
  },
  {
   "cell_type": "markdown",
   "metadata": {},
   "source": [
    "## Establish baseline performance\n",
    "As the first step, we'll build some default models to see what accuracy we can expect. Let's use the [AUC metric](http://mlwiki.org/index.php/ROC_Analysis) for this demo, but you can use `h2o.logloss()` and `stopping_metric=\"logloss\"` as well. It ranges from 0.5 for random models to 1 for perfect models.\n",
    "\n",
    "\n",
    "The first model is a default GBM, trained on the 60% training split"
   ]
  },
  {
   "cell_type": "code",
   "execution_count": 4,
   "metadata": {
    "collapsed": false
   },
   "outputs": [
    {
     "name": "stdout",
     "output_type": "stream",
     "text": [
      "\n",
      "gbm Model Build Progress: [##################################################] 100%\n",
      "Model Details\n",
      "=============\n",
      "H2OGradientBoostingEstimator :  Gradient Boosting Method\n",
      "Model Key:  GBM_model_python_1465581184222_1\n",
      "\n",
      "Model Summary: \n"
     ]
    },
    {
     "data": {
      "text/html": [
       "<div style=\"overflow:auto\"><table style=\"width:50%\"><tr><td><b></b></td>\n",
       "<td><b>number_of_trees</b></td>\n",
       "<td><b>model_size_in_bytes</b></td>\n",
       "<td><b>min_depth</b></td>\n",
       "<td><b>max_depth</b></td>\n",
       "<td><b>mean_depth</b></td>\n",
       "<td><b>min_leaves</b></td>\n",
       "<td><b>max_leaves</b></td>\n",
       "<td><b>mean_leaves</b></td></tr>\n",
       "<tr><td></td>\n",
       "<td>50.0</td>\n",
       "<td>27314.0</td>\n",
       "<td>5.0</td>\n",
       "<td>5.0</td>\n",
       "<td>5.0</td>\n",
       "<td>10.0</td>\n",
       "<td>21.0</td>\n",
       "<td>15.58</td></tr></table></div>"
      ],
      "text/plain": [
       "    number_of_trees    model_size_in_bytes    min_depth    max_depth    mean_depth    min_leaves    max_leaves    mean_leaves\n",
       "--  -----------------  ---------------------  -----------  -----------  ------------  ------------  ------------  -------------\n",
       "    50                 27314                  5            5            5             10            21            15.58"
      ]
     },
     "metadata": {},
     "output_type": "display_data"
    },
    {
     "name": "stdout",
     "output_type": "stream",
     "text": [
      "\n",
      "\n",
      "ModelMetricsBinomial: gbm\n",
      "** Reported on train data. **\n",
      "\n",
      "MSE: 0.0347141508428\n",
      "R^2: 0.853514801928\n",
      "LogLoss: 0.135724386711\n",
      "Mean Per-Class Error: 0.0403838284355\n",
      "AUC: 0.990369609999\n",
      "Gini: 0.980739219997\n",
      "\n",
      "Confusion Matrix (Act/Pred) for max f1 @ threshold = 0.394257736927: \n"
     ]
    },
    {
     "data": {
      "text/html": [
       "<div style=\"overflow:auto\"><table style=\"width:50%\"><tr><td><b></b></td>\n",
       "<td><b>0</b></td>\n",
       "<td><b>1</b></td>\n",
       "<td><b>Error</b></td>\n",
       "<td><b>Rate</b></td></tr>\n",
       "<tr><td>0</td>\n",
       "<td>461.0</td>\n",
       "<td>18.0</td>\n",
       "<td>0.0376</td>\n",
       "<td> (18.0/479.0)</td></tr>\n",
       "<tr><td>1</td>\n",
       "<td>13.0</td>\n",
       "<td>288.0</td>\n",
       "<td>0.0432</td>\n",
       "<td> (13.0/301.0)</td></tr>\n",
       "<tr><td>Total</td>\n",
       "<td>474.0</td>\n",
       "<td>306.0</td>\n",
       "<td>0.0397</td>\n",
       "<td> (31.0/780.0)</td></tr></table></div>"
      ],
      "text/plain": [
       "       0    1    Error    Rate\n",
       "-----  ---  ---  -------  ------------\n",
       "0      461  18   0.0376   (18.0/479.0)\n",
       "1      13   288  0.0432   (13.0/301.0)\n",
       "Total  474  306  0.0397   (31.0/780.0)"
      ]
     },
     "metadata": {},
     "output_type": "display_data"
    },
    {
     "name": "stdout",
     "output_type": "stream",
     "text": [
      "\n",
      "Maximum Metrics: Maximum metrics at their respective thresholds\n",
      "\n"
     ]
    },
    {
     "data": {
      "text/html": [
       "<div style=\"overflow:auto\"><table style=\"width:50%\"><tr><td><b>metric</b></td>\n",
       "<td><b>threshold</b></td>\n",
       "<td><b>value</b></td>\n",
       "<td><b>idx</b></td></tr>\n",
       "<tr><td>max f1</td>\n",
       "<td>0.3942577</td>\n",
       "<td>0.9489292</td>\n",
       "<td>220.0</td></tr>\n",
       "<tr><td>max f2</td>\n",
       "<td>0.3942577</td>\n",
       "<td>0.9536424</td>\n",
       "<td>220.0</td></tr>\n",
       "<tr><td>max f0point5</td>\n",
       "<td>0.6059331</td>\n",
       "<td>0.9682188</td>\n",
       "<td>197.0</td></tr>\n",
       "<tr><td>max accuracy</td>\n",
       "<td>0.4073598</td>\n",
       "<td>0.9602564</td>\n",
       "<td>218.0</td></tr>\n",
       "<tr><td>max precision</td>\n",
       "<td>0.9945845</td>\n",
       "<td>1.0</td>\n",
       "<td>0.0</td></tr>\n",
       "<tr><td>max recall</td>\n",
       "<td>0.0608964</td>\n",
       "<td>1.0</td>\n",
       "<td>280.0</td></tr>\n",
       "<tr><td>max specificity</td>\n",
       "<td>0.9945845</td>\n",
       "<td>1.0</td>\n",
       "<td>0.0</td></tr>\n",
       "<tr><td>max absolute_MCC</td>\n",
       "<td>0.3942577</td>\n",
       "<td>0.9164872</td>\n",
       "<td>220.0</td></tr>\n",
       "<tr><td>max min_per_class_accuracy</td>\n",
       "<td>0.3942577</td>\n",
       "<td>0.9568106</td>\n",
       "<td>220.0</td></tr>\n",
       "<tr><td>max mean_per_class_accuracy</td>\n",
       "<td>0.3942577</td>\n",
       "<td>0.9596162</td>\n",
       "<td>220.0</td></tr></table></div>"
      ],
      "text/plain": [
       "metric                       threshold    value     idx\n",
       "---------------------------  -----------  --------  -----\n",
       "max f1                       0.394258     0.948929  220\n",
       "max f2                       0.394258     0.953642  220\n",
       "max f0point5                 0.605933     0.968219  197\n",
       "max accuracy                 0.40736      0.960256  218\n",
       "max precision                0.994584     1         0\n",
       "max recall                   0.0608964    1         280\n",
       "max specificity              0.994584     1         0\n",
       "max absolute_MCC             0.394258     0.916487  220\n",
       "max min_per_class_accuracy   0.394258     0.956811  220\n",
       "max mean_per_class_accuracy  0.394258     0.959616  220"
      ]
     },
     "metadata": {},
     "output_type": "display_data"
    },
    {
     "name": "stdout",
     "output_type": "stream",
     "text": [
      "\n",
      "Gains/Lift Table: Avg response rate: 38.59 %\n",
      "\n"
     ]
    },
    {
     "data": {
      "text/html": [
       "<div style=\"overflow:auto\"><table style=\"width:50%\"><tr><td><b></b></td>\n",
       "<td><b>group</b></td>\n",
       "<td><b>cumulative_data_fraction</b></td>\n",
       "<td><b>lower_threshold</b></td>\n",
       "<td><b>lift</b></td>\n",
       "<td><b>cumulative_lift</b></td>\n",
       "<td><b>response_rate</b></td>\n",
       "<td><b>cumulative_response_rate</b></td>\n",
       "<td><b>capture_rate</b></td>\n",
       "<td><b>cumulative_capture_rate</b></td>\n",
       "<td><b>gain</b></td>\n",
       "<td><b>cumulative_gain</b></td></tr>\n",
       "<tr><td></td>\n",
       "<td>1</td>\n",
       "<td>0.0102564</td>\n",
       "<td>0.9792763</td>\n",
       "<td>2.5913621</td>\n",
       "<td>2.5913621</td>\n",
       "<td>1.0</td>\n",
       "<td>1.0</td>\n",
       "<td>0.0265781</td>\n",
       "<td>0.0265781</td>\n",
       "<td>159.1362126</td>\n",
       "<td>159.1362126</td></tr>\n",
       "<tr><td></td>\n",
       "<td>2</td>\n",
       "<td>0.0205128</td>\n",
       "<td>0.9772307</td>\n",
       "<td>2.5913621</td>\n",
       "<td>2.5913621</td>\n",
       "<td>1.0</td>\n",
       "<td>1.0</td>\n",
       "<td>0.0265781</td>\n",
       "<td>0.0531561</td>\n",
       "<td>159.1362126</td>\n",
       "<td>159.1362126</td></tr>\n",
       "<tr><td></td>\n",
       "<td>3</td>\n",
       "<td>0.0307692</td>\n",
       "<td>0.9749052</td>\n",
       "<td>2.5913621</td>\n",
       "<td>2.5913621</td>\n",
       "<td>1.0</td>\n",
       "<td>1.0</td>\n",
       "<td>0.0265781</td>\n",
       "<td>0.0797342</td>\n",
       "<td>159.1362126</td>\n",
       "<td>159.1362126</td></tr>\n",
       "<tr><td></td>\n",
       "<td>4</td>\n",
       "<td>0.0410256</td>\n",
       "<td>0.9735284</td>\n",
       "<td>2.5913621</td>\n",
       "<td>2.5913621</td>\n",
       "<td>1.0</td>\n",
       "<td>1.0</td>\n",
       "<td>0.0265781</td>\n",
       "<td>0.1063123</td>\n",
       "<td>159.1362126</td>\n",
       "<td>159.1362126</td></tr>\n",
       "<tr><td></td>\n",
       "<td>5</td>\n",
       "<td>0.0525641</td>\n",
       "<td>0.9727573</td>\n",
       "<td>2.5913621</td>\n",
       "<td>2.5913621</td>\n",
       "<td>1.0</td>\n",
       "<td>1.0</td>\n",
       "<td>0.0299003</td>\n",
       "<td>0.1362126</td>\n",
       "<td>159.1362126</td>\n",
       "<td>159.1362126</td></tr>\n",
       "<tr><td></td>\n",
       "<td>6</td>\n",
       "<td>0.1</td>\n",
       "<td>0.9705040</td>\n",
       "<td>2.5913621</td>\n",
       "<td>2.5913621</td>\n",
       "<td>1.0</td>\n",
       "<td>1.0</td>\n",
       "<td>0.1229236</td>\n",
       "<td>0.2591362</td>\n",
       "<td>159.1362126</td>\n",
       "<td>159.1362126</td></tr>\n",
       "<tr><td></td>\n",
       "<td>7</td>\n",
       "<td>0.15</td>\n",
       "<td>0.9690187</td>\n",
       "<td>2.5913621</td>\n",
       "<td>2.5913621</td>\n",
       "<td>1.0</td>\n",
       "<td>1.0</td>\n",
       "<td>0.1295681</td>\n",
       "<td>0.3887043</td>\n",
       "<td>159.1362126</td>\n",
       "<td>159.1362126</td></tr>\n",
       "<tr><td></td>\n",
       "<td>8</td>\n",
       "<td>0.2</td>\n",
       "<td>0.9666881</td>\n",
       "<td>2.5913621</td>\n",
       "<td>2.5913621</td>\n",
       "<td>1.0</td>\n",
       "<td>1.0</td>\n",
       "<td>0.1295681</td>\n",
       "<td>0.5182724</td>\n",
       "<td>159.1362126</td>\n",
       "<td>159.1362126</td></tr>\n",
       "<tr><td></td>\n",
       "<td>9</td>\n",
       "<td>0.3</td>\n",
       "<td>0.9286900</td>\n",
       "<td>2.5913621</td>\n",
       "<td>2.5913621</td>\n",
       "<td>1.0</td>\n",
       "<td>1.0</td>\n",
       "<td>0.2591362</td>\n",
       "<td>0.7774086</td>\n",
       "<td>159.1362126</td>\n",
       "<td>159.1362126</td></tr>\n",
       "<tr><td></td>\n",
       "<td>10</td>\n",
       "<td>0.4</td>\n",
       "<td>0.3392288</td>\n",
       "<td>1.8272425</td>\n",
       "<td>2.4003322</td>\n",
       "<td>0.7051282</td>\n",
       "<td>0.9262821</td>\n",
       "<td>0.1827243</td>\n",
       "<td>0.9601329</td>\n",
       "<td>82.7242525</td>\n",
       "<td>140.0332226</td></tr>\n",
       "<tr><td></td>\n",
       "<td>11</td>\n",
       "<td>0.5115385</td>\n",
       "<td>0.1092959</td>\n",
       "<td>0.2680719</td>\n",
       "<td>1.9354033</td>\n",
       "<td>0.1034483</td>\n",
       "<td>0.7468672</td>\n",
       "<td>0.0299003</td>\n",
       "<td>0.9900332</td>\n",
       "<td>-73.1928056</td>\n",
       "<td>93.5403292</td></tr>\n",
       "<tr><td></td>\n",
       "<td>12</td>\n",
       "<td>0.6333333</td>\n",
       "<td>0.0608964</td>\n",
       "<td>0.0818325</td>\n",
       "<td>1.5789474</td>\n",
       "<td>0.0315789</td>\n",
       "<td>0.6093117</td>\n",
       "<td>0.0099668</td>\n",
       "<td>1.0</td>\n",
       "<td>-91.8167512</td>\n",
       "<td>57.8947368</td></tr>\n",
       "<tr><td></td>\n",
       "<td>13</td>\n",
       "<td>0.7128205</td>\n",
       "<td>0.0376842</td>\n",
       "<td>0.0</td>\n",
       "<td>1.4028777</td>\n",
       "<td>0.0</td>\n",
       "<td>0.5413669</td>\n",
       "<td>0.0</td>\n",
       "<td>1.0</td>\n",
       "<td>-100.0</td>\n",
       "<td>40.2877698</td></tr>\n",
       "<tr><td></td>\n",
       "<td>14</td>\n",
       "<td>0.8</td>\n",
       "<td>0.0257127</td>\n",
       "<td>0.0</td>\n",
       "<td>1.25</td>\n",
       "<td>0.0</td>\n",
       "<td>0.4823718</td>\n",
       "<td>0.0</td>\n",
       "<td>1.0</td>\n",
       "<td>-100.0</td>\n",
       "<td>25.0</td></tr>\n",
       "<tr><td></td>\n",
       "<td>15</td>\n",
       "<td>0.9320513</td>\n",
       "<td>0.0192902</td>\n",
       "<td>0.0</td>\n",
       "<td>1.0729023</td>\n",
       "<td>0.0</td>\n",
       "<td>0.4140303</td>\n",
       "<td>0.0</td>\n",
       "<td>1.0</td>\n",
       "<td>-100.0</td>\n",
       "<td>7.2902338</td></tr>\n",
       "<tr><td></td>\n",
       "<td>16</td>\n",
       "<td>1.0</td>\n",
       "<td>0.0160264</td>\n",
       "<td>0.0</td>\n",
       "<td>1.0</td>\n",
       "<td>0.0</td>\n",
       "<td>0.3858974</td>\n",
       "<td>0.0</td>\n",
       "<td>1.0</td>\n",
       "<td>-100.0</td>\n",
       "<td>0.0</td></tr></table></div>"
      ],
      "text/plain": [
       "    group    cumulative_data_fraction    lower_threshold    lift       cumulative_lift    response_rate    cumulative_response_rate    capture_rate    cumulative_capture_rate    gain      cumulative_gain\n",
       "--  -------  --------------------------  -----------------  ---------  -----------------  ---------------  --------------------------  --------------  -------------------------  --------  -----------------\n",
       "    1        0.0102564                   0.979276           2.59136    2.59136            1                1                           0.0265781       0.0265781                  159.136   159.136\n",
       "    2        0.0205128                   0.977231           2.59136    2.59136            1                1                           0.0265781       0.0531561                  159.136   159.136\n",
       "    3        0.0307692                   0.974905           2.59136    2.59136            1                1                           0.0265781       0.0797342                  159.136   159.136\n",
       "    4        0.0410256                   0.973528           2.59136    2.59136            1                1                           0.0265781       0.106312                   159.136   159.136\n",
       "    5        0.0525641                   0.972757           2.59136    2.59136            1                1                           0.0299003       0.136213                   159.136   159.136\n",
       "    6        0.1                         0.970504           2.59136    2.59136            1                1                           0.122924        0.259136                   159.136   159.136\n",
       "    7        0.15                        0.969019           2.59136    2.59136            1                1                           0.129568        0.388704                   159.136   159.136\n",
       "    8        0.2                         0.966688           2.59136    2.59136            1                1                           0.129568        0.518272                   159.136   159.136\n",
       "    9        0.3                         0.92869            2.59136    2.59136            1                1                           0.259136        0.777409                   159.136   159.136\n",
       "    10       0.4                         0.339229           1.82724    2.40033            0.705128         0.926282                    0.182724        0.960133                   82.7243   140.033\n",
       "    11       0.511538                    0.109296           0.268072   1.9354             0.103448         0.746867                    0.0299003       0.990033                   -73.1928  93.5403\n",
       "    12       0.633333                    0.0608964          0.0818325  1.57895            0.0315789        0.609312                    0.00996678      1                          -91.8168  57.8947\n",
       "    13       0.712821                    0.0376842          0          1.40288            0                0.541367                    0               1                          -100      40.2878\n",
       "    14       0.8                         0.0257127          0          1.25               0                0.482372                    0               1                          -100      25\n",
       "    15       0.932051                    0.0192902          0          1.0729             0                0.41403                     0               1                          -100      7.29023\n",
       "    16       1                           0.0160264          0          1                  0                0.385897                    0               1                          -100      0"
      ]
     },
     "metadata": {},
     "output_type": "display_data"
    },
    {
     "name": "stdout",
     "output_type": "stream",
     "text": [
      "\n",
      "\n",
      "Scoring History: \n"
     ]
    },
    {
     "data": {
      "text/html": [
       "<div style=\"overflow:auto\"><table style=\"width:50%\"><tr><td><b></b></td>\n",
       "<td><b>timestamp</b></td>\n",
       "<td><b>duration</b></td>\n",
       "<td><b>number_of_trees</b></td>\n",
       "<td><b>training_MSE</b></td>\n",
       "<td><b>training_logloss</b></td>\n",
       "<td><b>training_AUC</b></td>\n",
       "<td><b>training_lift</b></td>\n",
       "<td><b>training_classification_error</b></td></tr>\n",
       "<tr><td></td>\n",
       "<td>2016-06-10 10:53:14</td>\n",
       "<td> 0.013 sec</td>\n",
       "<td>0.0</td>\n",
       "<td>0.2369806</td>\n",
       "<td>0.6668775</td>\n",
       "<td>0.5</td>\n",
       "<td>1.0</td>\n",
       "<td>0.6141026</td></tr>\n",
       "<tr><td></td>\n",
       "<td>2016-06-10 10:53:14</td>\n",
       "<td> 0.134 sec</td>\n",
       "<td>1.0</td>\n",
       "<td>0.2022753</td>\n",
       "<td>0.5942842</td>\n",
       "<td>0.9685634</td>\n",
       "<td>2.5913621</td>\n",
       "<td>0.0782051</td></tr>\n",
       "<tr><td></td>\n",
       "<td>2016-06-10 10:53:14</td>\n",
       "<td> 0.172 sec</td>\n",
       "<td>2.0</td>\n",
       "<td>0.1744836</td>\n",
       "<td>0.5361788</td>\n",
       "<td>0.9760888</td>\n",
       "<td>2.5913621</td>\n",
       "<td>0.0692308</td></tr>\n",
       "<tr><td></td>\n",
       "<td>2016-06-10 10:53:14</td>\n",
       "<td> 0.201 sec</td>\n",
       "<td>3.0</td>\n",
       "<td>0.1520389</td>\n",
       "<td>0.4883150</td>\n",
       "<td>0.9760888</td>\n",
       "<td>2.5913621</td>\n",
       "<td>0.0692308</td></tr>\n",
       "<tr><td></td>\n",
       "<td>2016-06-10 10:53:14</td>\n",
       "<td> 0.231 sec</td>\n",
       "<td>4.0</td>\n",
       "<td>0.1335759</td>\n",
       "<td>0.4476644</td>\n",
       "<td>0.9767338</td>\n",
       "<td>2.5913621</td>\n",
       "<td>0.0692308</td></tr>\n",
       "<tr><td>---</td>\n",
       "<td>---</td>\n",
       "<td>---</td>\n",
       "<td>---</td>\n",
       "<td>---</td>\n",
       "<td>---</td>\n",
       "<td>---</td>\n",
       "<td>---</td>\n",
       "<td>---</td></tr>\n",
       "<tr><td></td>\n",
       "<td>2016-06-10 10:53:15</td>\n",
       "<td> 1.047 sec</td>\n",
       "<td>46.0</td>\n",
       "<td>0.0351867</td>\n",
       "<td>0.1373187</td>\n",
       "<td>0.9900159</td>\n",
       "<td>2.5913621</td>\n",
       "<td>0.0410256</td></tr>\n",
       "<tr><td></td>\n",
       "<td>2016-06-10 10:53:15</td>\n",
       "<td> 1.067 sec</td>\n",
       "<td>47.0</td>\n",
       "<td>0.0350182</td>\n",
       "<td>0.1368714</td>\n",
       "<td>0.9901338</td>\n",
       "<td>2.5913621</td>\n",
       "<td>0.0410256</td></tr>\n",
       "<tr><td></td>\n",
       "<td>2016-06-10 10:53:15</td>\n",
       "<td> 1.085 sec</td>\n",
       "<td>48.0</td>\n",
       "<td>0.0349213</td>\n",
       "<td>0.1365776</td>\n",
       "<td>0.9902794</td>\n",
       "<td>2.5913621</td>\n",
       "<td>0.0410256</td></tr>\n",
       "<tr><td></td>\n",
       "<td>2016-06-10 10:53:15</td>\n",
       "<td> 1.101 sec</td>\n",
       "<td>49.0</td>\n",
       "<td>0.0347513</td>\n",
       "<td>0.1361386</td>\n",
       "<td>0.9903765</td>\n",
       "<td>2.5913621</td>\n",
       "<td>0.0397436</td></tr>\n",
       "<tr><td></td>\n",
       "<td>2016-06-10 10:53:15</td>\n",
       "<td> 1.121 sec</td>\n",
       "<td>50.0</td>\n",
       "<td>0.0347142</td>\n",
       "<td>0.1357244</td>\n",
       "<td>0.9903696</td>\n",
       "<td>2.5913621</td>\n",
       "<td>0.0397436</td></tr></table></div>"
      ],
      "text/plain": [
       "     timestamp            duration    number_of_trees    training_MSE     training_logloss    training_AUC    training_lift    training_classification_error\n",
       "---  -------------------  ----------  -----------------  ---------------  ------------------  --------------  ---------------  -------------------------------\n",
       "     2016-06-10 10:53:14  0.013 sec   0.0                0.236980604865   0.66687754039       0.5             1.0              0.614102564103\n",
       "     2016-06-10 10:53:14  0.134 sec   1.0                0.20227525227    0.594284206025      0.968563383017  2.59136212625    0.0782051282051\n",
       "     2016-06-10 10:53:14  0.172 sec   2.0                0.17448358399    0.536178835173      0.976088750789  2.59136212625    0.0692307692308\n",
       "     2016-06-10 10:53:14  0.201 sec   3.0                0.152038884955   0.488314986422      0.976088750789  2.59136212625    0.0692307692308\n",
       "     2016-06-10 10:53:14  0.231 sec   4.0                0.133575857211   0.447664398007      0.976733782312  2.59136212625    0.0692307692308\n",
       "---  ---                  ---         ---                ---              ---                 ---             ---              ---\n",
       "     2016-06-10 10:53:15  1.047 sec   46.0               0.0351866688934  0.137318716441      0.990015883034  2.59136212625    0.0410256410256\n",
       "     2016-06-10 10:53:15  1.067 sec   47.0               0.0350181660315  0.136871423281      0.990133792022  2.59136212625    0.0410256410256\n",
       "     2016-06-10 10:53:15  1.085 sec   48.0               0.0349212906762  0.136577564791      0.990279444302  2.59136212625    0.0410256410256\n",
       "     2016-06-10 10:53:15  1.101 sec   49.0               0.0347513221364  0.136138626945      0.990376545822  2.59136212625    0.0397435897436\n",
       "     2016-06-10 10:53:15  1.121 sec   50.0               0.0347141508428  0.135724386711      0.990369609999  2.59136212625    0.0397435897436"
      ]
     },
     "metadata": {},
     "output_type": "display_data"
    },
    {
     "name": "stdout",
     "output_type": "stream",
     "text": [
      "\n",
      "See the whole table with table.as_data_frame()\n",
      "\n",
      "Variable Importances: \n"
     ]
    },
    {
     "data": {
      "text/html": [
       "<div style=\"overflow:auto\"><table style=\"width:50%\"><tr><td><b>variable</b></td>\n",
       "<td><b>relative_importance</b></td>\n",
       "<td><b>scaled_importance</b></td>\n",
       "<td><b>percentage</b></td></tr>\n",
       "<tr><td>boat</td>\n",
       "<td>608.0037231</td>\n",
       "<td>1.0</td>\n",
       "<td>0.5470799</td></tr>\n",
       "<tr><td>home.dest</td>\n",
       "<td>379.0013123</td>\n",
       "<td>0.6233536</td>\n",
       "<td>0.3410242</td></tr>\n",
       "<tr><td>cabin</td>\n",
       "<td>35.3481979</td>\n",
       "<td>0.0581381</td>\n",
       "<td>0.0318062</td></tr>\n",
       "<tr><td>sex</td>\n",
       "<td>28.0973225</td>\n",
       "<td>0.0462124</td>\n",
       "<td>0.0252819</td></tr>\n",
       "<tr><td>ticket</td>\n",
       "<td>21.2186050</td>\n",
       "<td>0.0348988</td>\n",
       "<td>0.0190924</td></tr>\n",
       "<tr><td>embarked</td>\n",
       "<td>14.9458570</td>\n",
       "<td>0.0245819</td>\n",
       "<td>0.0134482</td></tr>\n",
       "<tr><td>fare</td>\n",
       "<td>11.1052256</td>\n",
       "<td>0.0182651</td>\n",
       "<td>0.0099924</td></tr>\n",
       "<tr><td>age</td>\n",
       "<td>5.4856591</td>\n",
       "<td>0.0090224</td>\n",
       "<td>0.0049360</td></tr>\n",
       "<tr><td>parch</td>\n",
       "<td>3.7122171</td>\n",
       "<td>0.0061056</td>\n",
       "<td>0.0033402</td></tr>\n",
       "<tr><td>sibsp</td>\n",
       "<td>1.8749361</td>\n",
       "<td>0.0030838</td>\n",
       "<td>0.0016871</td></tr>\n",
       "<tr><td>body</td>\n",
       "<td>1.2949954</td>\n",
       "<td>0.0021299</td>\n",
       "<td>0.0011652</td></tr>\n",
       "<tr><td>pclass</td>\n",
       "<td>1.2737147</td>\n",
       "<td>0.0020949</td>\n",
       "<td>0.0011461</td></tr></table></div>"
      ],
      "text/plain": [
       "variable    relative_importance    scaled_importance    percentage\n",
       "----------  ---------------------  -------------------  ------------\n",
       "boat        608.004                1                    0.54708\n",
       "home.dest   379.001                0.623354             0.341024\n",
       "cabin       35.3482                0.0581381            0.0318062\n",
       "sex         28.0973                0.0462124            0.0252819\n",
       "ticket      21.2186                0.0348988            0.0190924\n",
       "embarked    14.9459                0.0245819            0.0134482\n",
       "fare        11.1052                0.0182651            0.00999245\n",
       "age         5.48566                0.00902241           0.00493598\n",
       "parch       3.71222                0.00610558           0.00334024\n",
       "sibsp       1.87494                0.00308376           0.00168706\n",
       "body        1.295                  0.00212991           0.00116523\n",
       "pclass      1.27371                0.00209491           0.00114608"
      ]
     },
     "metadata": {},
     "output_type": "display_data"
    },
    {
     "name": "stdout",
     "output_type": "stream",
     "text": [
      "\n"
     ]
    }
   ],
   "source": [
    "#We only provide the required parameters, everything else is default\n",
    "gbm = h2o.H2OGradientBoostingEstimator(distribution='bernoulli')\n",
    "gbm.train(x=predictors, y=response, training_frame=train)\n",
    "\n",
    "## Show a detailed model summary\n",
    "print gbm"
   ]
  },
  {
   "cell_type": "markdown",
   "metadata": {},
   "source": [
    "The AUC is over 94%, so this model is highly predictive!"
   ]
  },
  {
   "cell_type": "code",
   "execution_count": 5,
   "metadata": {
    "collapsed": false
   },
   "outputs": [
    {
     "name": "stdout",
     "output_type": "stream",
     "text": [
      "0.943195266272\n"
     ]
    }
   ],
   "source": [
    "## Get the AUC on the validation set\n",
    "perf = gbm.model_performance(valid)\n",
    "print perf.auc()"
   ]
  },
  {
   "cell_type": "markdown",
   "metadata": {},
   "source": [
    "The second model is another default GBM, but trained on 80% of the data (here, we combine the training and validation splits to get more training data), and cross-validated using 4 folds.\n",
    "Note that cross-validation takes longer and is not usually done for really large datasets."
   ]
  },
  {
   "cell_type": "code",
   "execution_count": 6,
   "metadata": {
    "collapsed": false
   },
   "outputs": [
    {
     "name": "stdout",
     "output_type": "stream",
     "text": [
      "\n",
      "gbm Model Build Progress: [##################################################] 100%\n"
     ]
    }
   ],
   "source": [
    "## rbind() makes a copy here, so it's better to use split_frame with `ratios = c(0.8)` instead above\n",
    "cv_gbm = h2o.H2OGradientBoostingEstimator(distribution='bernoulli',nfolds = 4, seed = 0xDECAF)\n",
    "cv_gbm.train(x = predictors, y = response, training_frame = train.rbind(valid))"
   ]
  },
  {
   "cell_type": "markdown",
   "metadata": {},
   "source": [
    "We see that the cross-validated performance is similar to the validation set performance:"
   ]
  },
  {
   "cell_type": "code",
   "execution_count": 7,
   "metadata": {
    "collapsed": false
   },
   "outputs": [
    {
     "name": "stdout",
     "output_type": "stream",
     "text": [
      "0.940343155142\n"
     ]
    }
   ],
   "source": [
    "## Show a detailed summary of the cross validation metrics\n",
    "## This gives you an idea of the variance between the folds\n",
    "cv_summary = cv_gbm.cross_validation_metrics_summary().as_data_frame()\n",
    "#print(cv_summary) ## Full summary of all metrics\n",
    "#print(cv_summary.iloc[4]) ## get the row with just the AUCs\n",
    "\n",
    "## Get the cross-validated AUC by scoring the combined holdout predictions.\n",
    "## (Instead of taking the average of the metrics across the folds)\n",
    "perf_cv = cv_gbm.model_performance(xval=True)\n",
    "print perf_cv.auc()"
   ]
  },
  {
   "cell_type": "markdown",
   "metadata": {},
   "source": [
    "Next, we train a GBM with \"I feel lucky\" parameters.\n",
    "We'll use early stopping to automatically tune the number of trees using the validation AUC. \n",
    "We'll use a lower learning rate (lower is always better, just takes more trees to converge).\n",
    "We'll also use stochastic sampling of rows and columns to (hopefully) improve generalization."
   ]
  },
  {
   "cell_type": "code",
   "execution_count": 8,
   "metadata": {
    "collapsed": false
   },
   "outputs": [
    {
     "name": "stdout",
     "output_type": "stream",
     "text": [
      "\n",
      "gbm Model Build Progress: [##################################################] 100%\n"
     ]
    }
   ],
   "source": [
    "gbm_lucky = h2o.H2OGradientBoostingEstimator(\n",
    "  ## more trees is better if the learning rate is small enough \n",
    "  ## here, use \"more than enough\" trees - we have early stopping\n",
    "  ntrees = 10000,                                                            \n",
    "\n",
    "  ## smaller learning rate is better (this is a good value for most datasets, but see below for annealing)\n",
    "  learn_rate = 0.01,                                                         \n",
    "\n",
    "  ## early stopping once the validation AUC doesn't improve by at least 0.01% for 5 consecutive scoring events\n",
    "  stopping_rounds = 5, stopping_tolerance = 1e-4, stopping_metric = \"AUC\", \n",
    "\n",
    "  ## sample 80% of rows per tree\n",
    "  sample_rate = 0.8,                                                       \n",
    "\n",
    "  ## sample 80% of columns per split\n",
    "  col_sample_rate = 0.8,                                                   \n",
    "\n",
    "  ## fix a random number generator seed for reproducibility\n",
    "  seed = 1234,                                                             \n",
    "\n",
    "  ## score every 10 trees to make early stopping reproducible (it depends on the scoring interval)\n",
    "  score_tree_interval = 10)\n",
    "\n",
    "gbm_lucky.train(x=predictors, y=response, training_frame=train, validation_frame=valid)"
   ]
  },
  {
   "cell_type": "markdown",
   "metadata": {},
   "source": [
    "This model doesn't seem to be much better than the previous models:"
   ]
  },
  {
   "cell_type": "code",
   "execution_count": 9,
   "metadata": {
    "collapsed": false
   },
   "outputs": [
    {
     "name": "stdout",
     "output_type": "stream",
     "text": [
      "0.93933502395\n"
     ]
    }
   ],
   "source": [
    "perf_lucky = gbm_lucky.model_performance(valid)\n",
    "print perf_lucky.auc()"
   ]
  },
  {
   "cell_type": "markdown",
   "metadata": {},
   "source": [
    "For this small dataset, dropping 20% of observations per tree seems too aggressive in terms of adding regularization. For larger datasets, this is usually not a bad idea. But we'll let this parameter tune freshly below, so no worries."
   ]
  },
  {
   "cell_type": "markdown",
   "metadata": {
    "collapsed": true
   },
   "source": [
    "## Hyper-Parameter Search\n",
    "\n",
    "Next, we'll do real hyper-parameter optimization to see if we can beat the best AUC so far (around 94%).\n",
    "\n",
    "The key here is to start tuning some key parameters first (i.e., those that we expect to have the biggest impact on the results). From experience with gradient boosted trees across many datasets, we can state the following \"rules\":\n",
    "\n",
    "1. Build as many trees (`ntrees`) as it takes until the validation set error starts increasing.\n",
    "2. A lower learning rate (`learn_rate`) is generally better, but will require more trees. Using `learn_rate=0.02 `and `learn_rate_annealing=0.995` (reduction of learning rate with each additional tree) can help speed up convergence without sacrificing accuracy too much, and is great to hyper-parameter searches. For faster scans, use values of 0.05 and 0.99 instead.\n",
    "3. The optimum maximum allowed depth for the trees (`max_depth`) is data dependent, deeper trees take longer to train, especially at depths greater than 10.\n",
    "4. Row and column sampling (`sample_rate` and `col_sample_rate`) can improve generalization and lead to lower validation and test set errors. Good general values for large datasets are around 0.7 to 0.8 (sampling 70-80 percent of the data) for both parameters. Column sampling per tree (`col_sample_rate_per_tree`) can also be tuned. Note that it is multiplicative with `col_sample_rate`, so setting both parameters to 0.8 results in 64% of columns being considered at any given node to split.\n",
    "5. For highly imbalanced classification datasets (e.g., fewer buyers than non-buyers), stratified row sampling based on response class membership can help improve predictive accuracy.  It is configured with `sample_rate_per_class` (array of ratios, one per response class in lexicographic order).\n",
    "6. Most other options only have a small impact on the model performance, but are worth tuning with a Random hyper-parameter search nonetheless, if highest performance is critical.\n",
    "\n",
    "First we want to know what value of `max_depth` to use because it has a big impact on the model training time and optimal values depend strongly on the dataset.\n",
    "We'll do a quick Cartesian grid search to get a rough idea of good candidate `max_depth` values. Each model in the grid search will use early stopping to tune the number of trees using the validation set AUC, as before.\n",
    "We'll use learning rate annealing to speed up convergence without sacrificing too much accuracy."
   ]
  },
  {
   "cell_type": "code",
   "execution_count": 10,
   "metadata": {
    "collapsed": false
   },
   "outputs": [
    {
     "name": "stdout",
     "output_type": "stream",
     "text": [
      "\n",
      "gbm Grid Build Progress: [##################################################] 100%\n"
     ]
    }
   ],
   "source": [
    "## Depth 10 is usually plenty of depth for most datasets, but you never know\n",
    "hyper_params = {'max_depth' : range(1,30,2)}\n",
    "#hyper_params = {max_depth = [4,6,8,12,16,20]} ##faster for larger datasets\n",
    "\n",
    "#Build initial GBM Model\n",
    "gbm_grid = h2o.H2OGradientBoostingEstimator(distribution='bernoulli',\n",
    "        ## more trees is better if the learning rate is small enough \n",
    "        ## here, use \"more than enough\" trees - we have early stopping\n",
    "        ntrees=10000,\n",
    "        ## smaller learning rate is better\n",
    "        ## since we have learning_rate_annealing, we can afford to start with a \n",
    "        #bigger learning rate\n",
    "        learn_rate=0.05,\n",
    "        ## learning rate annealing: learning_rate shrinks by 1% after every tree \n",
    "        ## (use 1.00 to disable, but then lower the learning_rate)\n",
    "        learn_rate_annealing = 0.99,\n",
    "        ## sample 80% of rows per tree\n",
    "        sample_rate = 0.8,\n",
    "        ## sample 80% of columns per split\n",
    "        col_sample_rate = 0.8,\n",
    "        ## fix a random number generator seed for reproducibility\n",
    "        seed = 1234,\n",
    "        ## score every 10 trees to make early stopping reproducible \n",
    "        #(it depends on the scoring interval)\n",
    "        score_tree_interval = 10, \n",
    "        ## early stopping once the validation AUC doesn't improve by at least 0.01% for \n",
    "        #5 consecutive scoring events\n",
    "        stopping_rounds = 5,\n",
    "        stopping_metric = \"AUC\",\n",
    "        stopping_tolerance = 1e-4)\n",
    "\n",
    "#Build grid search with previously made GBM and hyper parameters\n",
    "grid = h2o.H2OGridSearch(gbm_grid,hyper_params,\n",
    "                         grid_id = 'depth_grid',\n",
    "                         search_criteria = {'strategy': \"Cartesian\"})\n",
    "\n",
    "\n",
    "#Train grid search\n",
    "grid.train(x=predictors, \n",
    "           y=response,\n",
    "           training_frame = train,\n",
    "           validation_frame = valid)"
   ]
  },
  {
   "cell_type": "code",
   "execution_count": 12,
   "metadata": {
    "collapsed": false
   },
   "outputs": [
    {
     "name": "stdout",
     "output_type": "stream",
     "text": [
      "      max_depth            model_ids   logloss\n",
      "0            25  depth_grid_model_12  0.215749\n",
      "1            23  depth_grid_model_11  0.216639\n",
      "2            29  depth_grid_model_14  0.218503\n",
      "3            13   depth_grid_model_6  0.218825\n",
      "4            19   depth_grid_model_9  0.218849\n",
      "5            27  depth_grid_model_13  0.219126\n",
      "6            21  depth_grid_model_10  0.219794\n",
      "7            17   depth_grid_model_8  0.220059\n",
      "8            11   depth_grid_model_5  0.221247\n",
      "9             9   depth_grid_model_4  0.222040\n",
      "10           15   depth_grid_model_7  0.222911\n",
      "11            7   depth_grid_model_3  0.225722\n",
      "12            5   depth_grid_model_2  0.232193\n",
      "13            3   depth_grid_model_1  0.264067\n",
      "14            1   depth_grid_model_0  0.324154\n",
      "\n"
     ]
    }
   ],
   "source": [
    "## by default, display the grid search results sorted by increasing logloss (since this is a classification task)\n",
    "print grid"
   ]
  },
  {
   "cell_type": "code",
   "execution_count": 13,
   "metadata": {
    "collapsed": false
   },
   "outputs": [
    {
     "name": "stdout",
     "output_type": "stream",
     "text": [
      "      max_depth            model_ids       auc\n",
      "0            27  depth_grid_model_13  0.956579\n",
      "1            25  depth_grid_model_12  0.956354\n",
      "2            29  depth_grid_model_14  0.956241\n",
      "3            21  depth_grid_model_10  0.954663\n",
      "4            19   depth_grid_model_9  0.954494\n",
      "5            13   depth_grid_model_6  0.954382\n",
      "6            23  depth_grid_model_11  0.954043\n",
      "7            11   depth_grid_model_5  0.952184\n",
      "8            15   depth_grid_model_7  0.951789\n",
      "9            17   depth_grid_model_8  0.951507\n",
      "10            9   depth_grid_model_4  0.950437\n",
      "11            7   depth_grid_model_3  0.946943\n",
      "12            5   depth_grid_model_2  0.939307\n",
      "13            3   depth_grid_model_1  0.932713\n",
      "14            1   depth_grid_model_0  0.929022\n",
      "\n"
     ]
    }
   ],
   "source": [
    "## sort the grid models by decreasing AUC\n",
    "sorted_grid = grid.get_grid(sort_by='auc',decreasing=True)\n",
    "print(sorted_grid)"
   ]
  },
  {
   "cell_type": "markdown",
   "metadata": {},
   "source": [
    "It appears that `max_depth` values of 19 to 29 are best suited for this dataset, which is unusally deep!"
   ]
  },
  {
   "cell_type": "code",
   "execution_count": 14,
   "metadata": {
    "collapsed": false
   },
   "outputs": [
    {
     "name": "stdout",
     "output_type": "stream",
     "text": [
      "MaxDepth 29\n",
      "MinDepth 19\n"
     ]
    }
   ],
   "source": [
    "max_depths = sorted_grid.sorted_metric_table()['max_depth'][0:5]\n",
    "new_max = max(max_depths, key=int)\n",
    "new_min = min(max_depths, key=int)\n",
    "\n",
    "print \"MaxDepth\", new_max\n",
    "print \"MinDepth\", new_min"
   ]
  },
  {
   "cell_type": "markdown",
   "metadata": {},
   "source": [
    "Now that we know a good range for max_depth, we can tune all other parameters in more detail. Since we don't know what combinations of hyper-parameters will result in the best model, we'll use random hyper-parameter search to \"let the machine get luckier than a best guess of any human\"."
   ]
  },
  {
   "cell_type": "code",
   "execution_count": 15,
   "metadata": {
    "collapsed": false
   },
   "outputs": [],
   "source": [
    "# create hyperameter and search criteria lists (ranges are inclusive..exclusive))\n",
    "hyper_params_tune = {'max_depth' : list(range(new_min,new_max+1,1)),\n",
    "                'sample_rate': [x/100. for x in range(20,101)],\n",
    "                'col_sample_rate' : [x/100. for x in range(20,101)],\n",
    "                'col_sample_rate_per_tree': [x/100. for x in range(20,101)],\n",
    "                'col_sample_rate_change_per_level': [x/100. for x in range(90,111)],\n",
    "                'min_rows': [2**x for x in range(0,int(math.log(train.nrow,2)-1)+1)],\n",
    "                'nbins': [2**x for x in range(4,11)],\n",
    "                'nbins_cats': [2**x for x in range(4,13)],\n",
    "                'min_split_improvement': [0,1e-8,1e-6,1e-4],\n",
    "                'histogram_type': [\"UniformAdaptive\",\"QuantilesGlobal\",\"RoundRobin\"]}\n",
    "search_criteria_tune = {'strategy': \"RandomDiscrete\",\n",
    "                   'max_runtime_secs': 3600,  ## limit the runtime to 60 minutes\n",
    "                   'max_models': 100,  ## build no more than 100 models\n",
    "                   'seed' : 1234,\n",
    "                   'stopping_rounds' : 5,\n",
    "                   'stopping_metric' : \"AUC\",\n",
    "                   'stopping_tolerance': 1e-3\n",
    "                   }"
   ]
  },
  {
   "cell_type": "code",
   "execution_count": 16,
   "metadata": {
    "collapsed": false
   },
   "outputs": [
    {
     "name": "stdout",
     "output_type": "stream",
     "text": [
      "\n",
      "gbm Grid Build Progress: [##################################################] 100%\n",
      "       col_sample_rate  col_sample_rate_change_per_level  \\\n",
      "0                 0.49                              1.04   \n",
      "1                 0.92                              0.93   \n",
      "2                 0.47                              0.98   \n",
      "3                 0.35                              1.09   \n",
      "4                 0.42                              0.98   \n",
      "5                 0.70                              1.02   \n",
      "6                 0.60                              1.00   \n",
      "7                 0.55                              1.05   \n",
      "8                 0.50                              1.02   \n",
      "9                 0.40                              1.01   \n",
      "10                0.61                              1.04   \n",
      "11                0.52                              0.97   \n",
      "12                0.20                              0.96   \n",
      "13                0.50                              0.94   \n",
      "14                0.90                              1.10   \n",
      "15                0.45                              1.03   \n",
      "16                0.92                              1.06   \n",
      "17                0.62                              0.96   \n",
      "18                0.26                              0.91   \n",
      "19                0.76                              0.97   \n",
      "20                0.87                              0.90   \n",
      "21                0.42                              1.08   \n",
      "22                0.63                              1.00   \n",
      "23                0.85                              1.07   \n",
      "24                0.37                              0.93   \n",
      "25                0.66                              0.96   \n",
      "26                0.51                              1.10   \n",
      "27                0.65                              1.08   \n",
      "28                0.91                              1.02   \n",
      "29                0.96                              1.04   \n",
      ".. ..              ...                               ...   \n",
      "70                0.77                              1.06   \n",
      "71                0.32                              1.02   \n",
      "72                0.99                              1.00   \n",
      "73                0.50                              0.92   \n",
      "74                0.52                              1.10   \n",
      "75                0.46                              0.94   \n",
      "76                0.45                              1.06   \n",
      "77                0.98                              1.02   \n",
      "78                0.33                              1.06   \n",
      "79                0.31                              0.94   \n",
      "80                0.48                              1.00   \n",
      "81                0.50                              0.99   \n",
      "82                0.37                              0.94   \n",
      "83                0.44                              1.03   \n",
      "84                0.25                              1.06   \n",
      "85                0.25                              1.04   \n",
      "86                0.57                              1.00   \n",
      "87                0.22                              1.06   \n",
      "88                0.22                              1.09   \n",
      "89                0.76                              0.94   \n",
      "90                0.27                              1.07   \n",
      "91                0.20                              0.94   \n",
      "92                0.92                              1.06   \n",
      "93                0.70                              1.08   \n",
      "94                0.50                              1.03   \n",
      "95                0.87                              1.00   \n",
      "96                0.61                              0.97   \n",
      "97                0.57                              1.10   \n",
      "98                0.24                              1.08   \n",
      "99                0.96                              0.94   \n",
      "\n",
      "    col_sample_rate_per_tree   histogram_type  max_depth  min_rows  \\\n",
      "0                       0.94  QuantilesGlobal         28       2.0   \n",
      "1                       0.56  QuantilesGlobal         27       4.0   \n",
      "2                       0.68  UniformAdaptive         29       8.0   \n",
      "3                       0.83  QuantilesGlobal         29       4.0   \n",
      "4                       0.53  UniformAdaptive         24       1.0   \n",
      "5                       0.56  UniformAdaptive         25       2.0   \n",
      "6                       0.89  UniformAdaptive         22       1.0   \n",
      "7                       1.00  UniformAdaptive         21       8.0   \n",
      "8                       0.65       RoundRobin         29       2.0   \n",
      "9                       0.55  QuantilesGlobal         25       2.0   \n",
      "10                      0.61  UniformAdaptive         21       1.0   \n",
      "11                      0.50  UniformAdaptive         26       8.0   \n",
      "12                      0.96       RoundRobin         24       8.0   \n",
      "13                      0.92       RoundRobin         28       2.0   \n",
      "14                      0.59       RoundRobin         26      32.0   \n",
      "15                      0.79       RoundRobin         28      32.0   \n",
      "16                      0.73  UniformAdaptive         23       8.0   \n",
      "17                      0.68       RoundRobin         29      64.0   \n",
      "18                      0.88       RoundRobin         25       1.0   \n",
      "19                      0.91  UniformAdaptive         29       8.0   \n",
      "20                      0.70  UniformAdaptive         19       8.0   \n",
      "21                      0.45       RoundRobin         28       1.0   \n",
      "22                      0.85       RoundRobin         20       2.0   \n",
      "23                      0.95  UniformAdaptive         19       8.0   \n",
      "24                      0.64  UniformAdaptive         28       2.0   \n",
      "25                      0.38  UniformAdaptive         22       8.0   \n",
      "26                      0.50  UniformAdaptive         22       4.0   \n",
      "27                      0.95  UniformAdaptive         21       4.0   \n",
      "28                      0.97  UniformAdaptive         20       2.0   \n",
      "29                      0.99  UniformAdaptive         23       1.0   \n",
      "..                       ...              ...        ...       ...   \n",
      "70                      0.75  QuantilesGlobal         20     128.0   \n",
      "71                      0.88  UniformAdaptive         25      64.0   \n",
      "72                      0.22       RoundRobin         28      64.0   \n",
      "73                      0.55  QuantilesGlobal         29      16.0   \n",
      "74                      0.33  QuantilesGlobal         27      32.0   \n",
      "75                      0.24  UniformAdaptive         19       1.0   \n",
      "76                      0.28  UniformAdaptive         19      32.0   \n",
      "77                      0.26  QuantilesGlobal         21      16.0   \n",
      "78                      0.69       RoundRobin         19     128.0   \n",
      "79                      0.30  UniformAdaptive         28      64.0   \n",
      "80                      0.35  QuantilesGlobal         29      64.0   \n",
      "81                      0.81  QuantilesGlobal         29     128.0   \n",
      "82                      0.23  QuantilesGlobal         28       2.0   \n",
      "83                      0.38  QuantilesGlobal         22     128.0   \n",
      "84                      0.22  QuantilesGlobal         22       8.0   \n",
      "85                      0.87  QuantilesGlobal         25     128.0   \n",
      "86                      0.23       RoundRobin         26      64.0   \n",
      "87                      0.55       RoundRobin         28      64.0   \n",
      "88                      0.22  UniformAdaptive         19     128.0   \n",
      "89                      0.20       RoundRobin         28     128.0   \n",
      "90                      0.39       RoundRobin         19     128.0   \n",
      "91                      0.49  QuantilesGlobal         23     128.0   \n",
      "92                      0.64       RoundRobin         29     256.0   \n",
      "93                      0.99  QuantilesGlobal         19     256.0   \n",
      "94                      0.45       RoundRobin         27     256.0   \n",
      "95                      0.20       RoundRobin         21     256.0   \n",
      "96                      0.36  QuantilesGlobal         22     256.0   \n",
      "97                      0.68       RoundRobin         22     256.0   \n",
      "98                      0.30  UniformAdaptive         28     256.0   \n",
      "99                      0.62  QuantilesGlobal         23     256.0   \n",
      "\n",
      "    min_split_improvement  nbins  nbins_cats  sample_rate  \\\n",
      "0            0.000000e+00     32         256         0.86   \n",
      "1            0.000000e+00    128         128         0.93   \n",
      "2            1.000000e-08    128         128         0.87   \n",
      "3            1.000000e-08     64         128         0.69   \n",
      "4            1.000000e-04     64          16         0.69   \n",
      "5            1.000000e-08     32         256         0.34   \n",
      "6            0.000000e+00     16         128         0.64   \n",
      "7            1.000000e-04   1024        2048         0.86   \n",
      "8            1.000000e-08    512         512         0.64   \n",
      "9            0.000000e+00     64          32         0.42   \n",
      "10           1.000000e-04     64          16         0.69   \n",
      "11           0.000000e+00    256         128         0.27   \n",
      "12           1.000000e-08     64         256         0.93   \n",
      "13           0.000000e+00    128        2048         0.61   \n",
      "14           1.000000e-08    128         256         0.62   \n",
      "15           1.000000e-04     64          16         0.55   \n",
      "16           1.000000e-08     32         128         0.28   \n",
      "17           0.000000e+00    256         128         0.96   \n",
      "18           1.000000e-08     16         512         0.92   \n",
      "19           1.000000e-04   1024        2048         0.43   \n",
      "20           1.000000e-06    512        4096         0.55   \n",
      "21           1.000000e-06     16         256         0.35   \n",
      "22           0.000000e+00    128        4096         0.37   \n",
      "23           1.000000e-06     16         512         0.55   \n",
      "24           1.000000e-06    128         512         0.73   \n",
      "25           1.000000e-08    256          32         0.92   \n",
      "26           0.000000e+00    128        1024         0.46   \n",
      "27           1.000000e-08     64         512         0.40   \n",
      "28           1.000000e-06     64        2048         0.26   \n",
      "29           1.000000e-06   1024        2048         0.29   \n",
      "..                    ...    ...         ...          ...   \n",
      "70           1.000000e-06     32          32         0.29   \n",
      "71           1.000000e-08    512        1024         0.46   \n",
      "72           0.000000e+00    256         128         0.50   \n",
      "73           1.000000e-08     16        2048         0.38   \n",
      "74           0.000000e+00     64          64         0.65   \n",
      "75           0.000000e+00    128         512         0.65   \n",
      "76           1.000000e-08    256          64         0.28   \n",
      "77           1.000000e-06    128         512         0.40   \n",
      "78           1.000000e-04     64         256         0.35   \n",
      "79           1.000000e-08    128         128         0.40   \n",
      "80           1.000000e-04     32         512         0.40   \n",
      "81           1.000000e-06    256        4096         0.76   \n",
      "82           1.000000e-06    512        4096         0.47   \n",
      "83           1.000000e-06    256         512         0.55   \n",
      "84           0.000000e+00    512        2048         0.23   \n",
      "85           1.000000e-08    256        4096         0.95   \n",
      "86           1.000000e-06     64          64         0.25   \n",
      "87           1.000000e-04     32          16         0.28   \n",
      "88           1.000000e-08   1024        2048         0.59   \n",
      "89           0.000000e+00    256        1024         0.62   \n",
      "90           1.000000e-06     16          64         0.57   \n",
      "91           0.000000e+00     16          32         0.40   \n",
      "92           0.000000e+00     16          32         0.78   \n",
      "93           1.000000e-04     32          16         0.49   \n",
      "94           1.000000e-08    512          16         0.28   \n",
      "95           1.000000e-06    512        1024         0.97   \n",
      "96           1.000000e-06    128        1024         0.65   \n",
      "97           0.000000e+00     16        4096         0.58   \n",
      "98           1.000000e-04     32          64         0.97   \n",
      "99           1.000000e-06     64        4096         0.57   \n",
      "\n",
      "              model_ids   logloss  \n",
      "0   final_grid_model_68  0.178131  \n",
      "1   final_grid_model_96  0.182093  \n",
      "2    final_grid_model_2  0.191473  \n",
      "3   final_grid_model_38  0.192103  \n",
      "4   final_grid_model_55  0.196660  \n",
      "5   final_grid_model_22  0.197215  \n",
      "6    final_grid_model_6  0.197241  \n",
      "7   final_grid_model_17  0.202785  \n",
      "8    final_grid_model_0  0.204558  \n",
      "9   final_grid_model_88  0.204797  \n",
      "10  final_grid_model_81  0.205733  \n",
      "11  final_grid_model_49  0.206358  \n",
      "12  final_grid_model_87  0.206864  \n",
      "13  final_grid_model_14  0.207613  \n",
      "14  final_grid_model_91  0.208035  \n",
      "15  final_grid_model_54  0.210142  \n",
      "16  final_grid_model_60  0.210459  \n",
      "17  final_grid_model_76  0.211331  \n",
      "18  final_grid_model_65  0.214412  \n",
      "19  final_grid_model_79  0.215193  \n",
      "20  final_grid_model_24  0.215357  \n",
      "21  final_grid_model_16  0.216125  \n",
      "22   final_grid_model_5  0.216998  \n",
      "23  final_grid_model_97  0.217208  \n",
      "24  final_grid_model_66  0.219441  \n",
      "25  final_grid_model_50  0.221012  \n",
      "26  final_grid_model_25  0.223646  \n",
      "27  final_grid_model_33  0.225226  \n",
      "28   final_grid_model_4  0.226572  \n",
      "29  final_grid_model_39  0.228521  \n",
      "..                  ...       ...  \n",
      "70  final_grid_model_26  0.328488  \n",
      "71  final_grid_model_13  0.328695  \n",
      "72  final_grid_model_57  0.329654  \n",
      "73  final_grid_model_34  0.330996  \n",
      "74  final_grid_model_20  0.331416  \n",
      "75  final_grid_model_42  0.336988  \n",
      "76  final_grid_model_92  0.347658  \n",
      "77  final_grid_model_94  0.349164  \n",
      "78  final_grid_model_18  0.350678  \n",
      "79  final_grid_model_47  0.367736  \n",
      "80  final_grid_model_56  0.374115  \n",
      "81   final_grid_model_3  0.375441  \n",
      "82  final_grid_model_63  0.387432  \n",
      "83   final_grid_model_9  0.390317  \n",
      "84  final_grid_model_36  0.392416  \n",
      "85  final_grid_model_72  0.399549  \n",
      "86  final_grid_model_35  0.425089  \n",
      "87  final_grid_model_73  0.427620  \n",
      "88  final_grid_model_61  0.432290  \n",
      "89  final_grid_model_67  0.435146  \n",
      "90   final_grid_model_1  0.457891  \n",
      "91  final_grid_model_28  0.492293  \n",
      "92  final_grid_model_70  0.507830  \n",
      "93  final_grid_model_86  0.512732  \n",
      "94  final_grid_model_58  0.539721  \n",
      "95  final_grid_model_51  0.540062  \n",
      "96  final_grid_model_98  0.565371  \n",
      "97   final_grid_model_8  0.566970  \n",
      "98  final_grid_model_44  0.584636  \n",
      "99  final_grid_model_95  0.692463  \n",
      "\n",
      "[100 rows x 13 columns]\n",
      "\n"
     ]
    }
   ],
   "source": [
    "gbm_final_grid = h2o.H2OGradientBoostingEstimator(distribution='bernoulli',\n",
    "                    ## more trees is better if the learning rate is small enough \n",
    "                    ## here, use \"more than enough\" trees - we have early stopping\n",
    "                    ntrees=10000,\n",
    "                    ## smaller learning rate is better\n",
    "                    ## since we have learning_rate_annealing, we can afford to start with a \n",
    "                    #bigger learning rate\n",
    "                    learn_rate=0.05,\n",
    "                    ## learning rate annealing: learning_rate shrinks by 1% after every tree \n",
    "                    ## (use 1.00 to disable, but then lower the learning_rate)\n",
    "                    learn_rate_annealing = 0.99,\n",
    "                    ## score every 10 trees to make early stopping reproducible \n",
    "                    #(it depends on the scoring interval)\n",
    "                    score_tree_interval = 10,\n",
    "                    ## fix a random number generator seed for reproducibility\n",
    "                    seed = 1234,\n",
    "                    ## early stopping once the validation AUC doesn't improve by at least 0.01% for \n",
    "                    #5 consecutive scoring events\n",
    "                    stopping_rounds = 5,\n",
    "                    stopping_metric = \"AUC\",\n",
    "                    stopping_tolerance = 1e-4)\n",
    "            \n",
    "#Build grid search with previously made GBM and hyper parameters\n",
    "final_grid = h2o.H2OGridSearch(gbm_final_grid, hyper_params = hyper_params_tune,\n",
    "                                    grid_id = 'final_grid',\n",
    "                                    search_criteria = search_criteria_tune)\n",
    "#Train grid search\n",
    "final_grid.train(x=predictors, \n",
    "           y=response,\n",
    "           ## early stopping based on timeout (no model should take more than 1 hour - modify as needed)\n",
    "           max_runtime_secs = 3600, \n",
    "           training_frame = train,\n",
    "           validation_frame = valid)\n",
    "\n",
    "print final_grid"
   ]
  },
  {
   "cell_type": "markdown",
   "metadata": {},
   "source": [
    "We can see that the best models have even better validation AUCs than our previous best models, so the random grid search was successful!"
   ]
  },
  {
   "cell_type": "code",
   "execution_count": 19,
   "metadata": {
    "collapsed": false
   },
   "outputs": [
    {
     "name": "stdout",
     "output_type": "stream",
     "text": [
      "       col_sample_rate  col_sample_rate_change_per_level  \\\n",
      "0                 0.49                              1.04   \n",
      "1                 0.92                              0.93   \n",
      "2                 0.35                              1.09   \n",
      "3                 0.42                              0.98   \n",
      "4                 0.70                              1.02   \n",
      "5                 0.47                              0.98   \n",
      "6                 0.50                              1.02   \n",
      "7                 0.20                              0.96   \n",
      "8                 0.40                              1.01   \n",
      "9                 0.50                              0.94   \n",
      "10                0.91                              0.96   \n",
      "11                0.90                              1.10   \n",
      "12                0.66                              0.96   \n",
      "13                0.60                              1.00   \n",
      "14                0.42                              1.08   \n",
      "15                0.96                              1.10   \n",
      "16                0.75                              0.94   \n",
      "17                0.26                              0.91   \n",
      "18                0.61                              1.04   \n",
      "19                0.71                              0.90   \n",
      "20                0.81                              1.06   \n",
      "21                0.55                              1.05   \n",
      "22                0.45                              1.03   \n",
      "23                0.96                              1.04   \n",
      "24                0.63                              1.00   \n",
      "25                0.52                              0.97   \n",
      "26                0.62                              0.96   \n",
      "27                0.95                              1.03   \n",
      "28                0.72                              1.08   \n",
      "29                0.51                              1.10   \n",
      ".. ..              ...                               ...   \n",
      "70                0.46                              0.94   \n",
      "71                0.92                              1.04   \n",
      "72                0.69                              0.97   \n",
      "73                0.76                              0.94   \n",
      "74                0.22                              1.09   \n",
      "75                0.97                              0.96   \n",
      "76                0.66                              1.03   \n",
      "77                0.52                              1.10   \n",
      "78                0.57                              1.00   \n",
      "79                0.50                              0.92   \n",
      "80                0.22                              1.06   \n",
      "81                0.48                              1.00   \n",
      "82                0.77                              1.06   \n",
      "83                0.44                              1.03   \n",
      "84                0.64                              1.02   \n",
      "85                0.25                              1.06   \n",
      "86                0.50                              0.99   \n",
      "87                0.98                              1.02   \n",
      "88                0.37                              0.94   \n",
      "89                0.25                              1.04   \n",
      "90                0.27                              1.07   \n",
      "91                0.20                              0.94   \n",
      "92                0.92                              1.06   \n",
      "93                0.50                              1.03   \n",
      "94                0.70                              1.08   \n",
      "95                0.87                              1.00   \n",
      "96                0.61                              0.97   \n",
      "97                0.24                              1.08   \n",
      "98                0.57                              1.10   \n",
      "99                0.96                              0.94   \n",
      "\n",
      "    col_sample_rate_per_tree   histogram_type  max_depth  min_rows  \\\n",
      "0                       0.94  QuantilesGlobal         28       2.0   \n",
      "1                       0.56  QuantilesGlobal         27       4.0   \n",
      "2                       0.83  QuantilesGlobal         29       4.0   \n",
      "3                       0.53  UniformAdaptive         24       1.0   \n",
      "4                       0.56  UniformAdaptive         25       2.0   \n",
      "5                       0.68  UniformAdaptive         29       8.0   \n",
      "6                       0.65       RoundRobin         29       2.0   \n",
      "7                       0.96       RoundRobin         24       8.0   \n",
      "8                       0.55  QuantilesGlobal         25       2.0   \n",
      "9                       0.92       RoundRobin         28       2.0   \n",
      "10                      0.40       RoundRobin         19       4.0   \n",
      "11                      0.59       RoundRobin         26      32.0   \n",
      "12                      0.38  UniformAdaptive         22       8.0   \n",
      "13                      0.89  UniformAdaptive         22       1.0   \n",
      "14                      0.45       RoundRobin         28       1.0   \n",
      "15                      0.43       RoundRobin         25       2.0   \n",
      "16                      0.60  QuantilesGlobal         21       1.0   \n",
      "17                      0.88       RoundRobin         25       1.0   \n",
      "18                      0.61  UniformAdaptive         21       1.0   \n",
      "19                      0.37  UniformAdaptive         20      16.0   \n",
      "20                      0.68  QuantilesGlobal         21       1.0   \n",
      "21                      1.00  UniformAdaptive         21       8.0   \n",
      "22                      0.79       RoundRobin         28      32.0   \n",
      "23                      0.99  UniformAdaptive         23       1.0   \n",
      "24                      0.85       RoundRobin         20       2.0   \n",
      "25                      0.50  UniformAdaptive         26       8.0   \n",
      "26                      0.68       RoundRobin         29      64.0   \n",
      "27                      0.29  UniformAdaptive         28      16.0   \n",
      "28                      0.32  UniformAdaptive         28       4.0   \n",
      "29                      0.50  UniformAdaptive         22       4.0   \n",
      "..                       ...              ...        ...       ...   \n",
      "70                      0.24  UniformAdaptive         19       1.0   \n",
      "71                      1.00  QuantilesGlobal         27      64.0   \n",
      "72                      0.98  UniformAdaptive         27     128.0   \n",
      "73                      0.20       RoundRobin         28     128.0   \n",
      "74                      0.22  UniformAdaptive         19     128.0   \n",
      "75                      0.96  QuantilesGlobal         22       1.0   \n",
      "76                      0.42  QuantilesGlobal         23      16.0   \n",
      "77                      0.33  QuantilesGlobal         27      32.0   \n",
      "78                      0.23       RoundRobin         26      64.0   \n",
      "79                      0.55  QuantilesGlobal         29      16.0   \n",
      "80                      0.55       RoundRobin         28      64.0   \n",
      "81                      0.35  QuantilesGlobal         29      64.0   \n",
      "82                      0.75  QuantilesGlobal         20     128.0   \n",
      "83                      0.38  QuantilesGlobal         22     128.0   \n",
      "84                      0.66  QuantilesGlobal         28      16.0   \n",
      "85                      0.22  QuantilesGlobal         22       8.0   \n",
      "86                      0.81  QuantilesGlobal         29     128.0   \n",
      "87                      0.26  QuantilesGlobal         21      16.0   \n",
      "88                      0.23  QuantilesGlobal         28       2.0   \n",
      "89                      0.87  QuantilesGlobal         25     128.0   \n",
      "90                      0.39       RoundRobin         19     128.0   \n",
      "91                      0.49  QuantilesGlobal         23     128.0   \n",
      "92                      0.64       RoundRobin         29     256.0   \n",
      "93                      0.45       RoundRobin         27     256.0   \n",
      "94                      0.99  QuantilesGlobal         19     256.0   \n",
      "95                      0.20       RoundRobin         21     256.0   \n",
      "96                      0.36  QuantilesGlobal         22     256.0   \n",
      "97                      0.30  UniformAdaptive         28     256.0   \n",
      "98                      0.68       RoundRobin         22     256.0   \n",
      "99                      0.62  QuantilesGlobal         23     256.0   \n",
      "\n",
      "    min_split_improvement  nbins  nbins_cats  sample_rate  \\\n",
      "0            0.000000e+00     32         256         0.86   \n",
      "1            0.000000e+00    128         128         0.93   \n",
      "2            1.000000e-08     64         128         0.69   \n",
      "3            1.000000e-04     64          16         0.69   \n",
      "4            1.000000e-08     32         256         0.34   \n",
      "5            1.000000e-08    128         128         0.87   \n",
      "6            1.000000e-08    512         512         0.64   \n",
      "7            1.000000e-08     64         256         0.93   \n",
      "8            0.000000e+00     64          32         0.42   \n",
      "9            0.000000e+00    128        2048         0.61   \n",
      "10           1.000000e-04     32        1024         0.67   \n",
      "11           1.000000e-08    128         256         0.62   \n",
      "12           1.000000e-08    256          32         0.92   \n",
      "13           0.000000e+00     16         128         0.64   \n",
      "14           1.000000e-06     16         256         0.35   \n",
      "15           1.000000e-08    512        2048         0.48   \n",
      "16           1.000000e-04     16         512         0.50   \n",
      "17           1.000000e-08     16         512         0.92   \n",
      "18           1.000000e-04     64          16         0.69   \n",
      "19           1.000000e-04   1024          32         0.92   \n",
      "20           0.000000e+00    128        2048         0.77   \n",
      "21           1.000000e-04   1024        2048         0.86   \n",
      "22           1.000000e-04     64          16         0.55   \n",
      "23           1.000000e-06   1024        2048         0.29   \n",
      "24           0.000000e+00    128        4096         0.37   \n",
      "25           0.000000e+00    256         128         0.27   \n",
      "26           0.000000e+00    256         128         0.96   \n",
      "27           1.000000e-04     32          64         0.70   \n",
      "28           0.000000e+00    512          32         0.54   \n",
      "29           0.000000e+00    128        1024         0.46   \n",
      "..                    ...    ...         ...          ...   \n",
      "70           0.000000e+00    128         512         0.65   \n",
      "71           0.000000e+00    256          16         0.57   \n",
      "72           0.000000e+00    256        4096         0.82   \n",
      "73           0.000000e+00    256        1024         0.62   \n",
      "74           1.000000e-08   1024        2048         0.59   \n",
      "75           1.000000e-04   1024          64         0.32   \n",
      "76           1.000000e-04   1024         512         0.59   \n",
      "77           0.000000e+00     64          64         0.65   \n",
      "78           1.000000e-06     64          64         0.25   \n",
      "79           1.000000e-08     16        2048         0.38   \n",
      "80           1.000000e-04     32          16         0.28   \n",
      "81           1.000000e-04     32         512         0.40   \n",
      "82           1.000000e-06     32          32         0.29   \n",
      "83           1.000000e-06    256         512         0.55   \n",
      "84           1.000000e-04    512        2048         0.35   \n",
      "85           0.000000e+00    512        2048         0.23   \n",
      "86           1.000000e-06    256        4096         0.76   \n",
      "87           1.000000e-06    128         512         0.40   \n",
      "88           1.000000e-06    512        4096         0.47   \n",
      "89           1.000000e-08    256        4096         0.95   \n",
      "90           1.000000e-06     16          64         0.57   \n",
      "91           0.000000e+00     16          32         0.40   \n",
      "92           0.000000e+00     16          32         0.78   \n",
      "93           1.000000e-08    512          16         0.28   \n",
      "94           1.000000e-04     32          16         0.49   \n",
      "95           1.000000e-06    512        1024         0.97   \n",
      "96           1.000000e-06    128        1024         0.65   \n",
      "97           1.000000e-04     32          64         0.97   \n",
      "98           0.000000e+00     16        4096         0.58   \n",
      "99           1.000000e-06     64        4096         0.57   \n",
      "\n",
      "              model_ids       auc  \n",
      "0   final_grid_model_68  0.974049  \n",
      "1   final_grid_model_96  0.971400  \n",
      "2   final_grid_model_38  0.968864  \n",
      "3   final_grid_model_55  0.967794  \n",
      "4   final_grid_model_22  0.966554  \n",
      "5    final_grid_model_2  0.966441  \n",
      "6    final_grid_model_0  0.966441  \n",
      "7   final_grid_model_87  0.966103  \n",
      "8   final_grid_model_88  0.965990  \n",
      "9   final_grid_model_14  0.965483  \n",
      "10  final_grid_model_41  0.964807  \n",
      "11  final_grid_model_91  0.964582  \n",
      "12  final_grid_model_50  0.964469  \n",
      "13   final_grid_model_6  0.964243  \n",
      "14  final_grid_model_16  0.963962  \n",
      "15  final_grid_model_64  0.963229  \n",
      "16  final_grid_model_11  0.962327  \n",
      "17  final_grid_model_65  0.962271  \n",
      "18  final_grid_model_81  0.961877  \n",
      "19  final_grid_model_37  0.961651  \n",
      "20  final_grid_model_29  0.961200  \n",
      "21  final_grid_model_17  0.961144  \n",
      "22  final_grid_model_54  0.960862  \n",
      "23  final_grid_model_39  0.960806  \n",
      "24   final_grid_model_5  0.960806  \n",
      "25  final_grid_model_49  0.960750  \n",
      "26  final_grid_model_76  0.960750  \n",
      "27  final_grid_model_12  0.960693  \n",
      "28  final_grid_model_77  0.960299  \n",
      "29  final_grid_model_25  0.960186  \n",
      "..                  ...       ...  \n",
      "70  final_grid_model_42  0.937813  \n",
      "71  final_grid_model_48  0.935785  \n",
      "72  final_grid_model_93  0.934742  \n",
      "73  final_grid_model_67  0.932488  \n",
      "74  final_grid_model_61  0.930910  \n",
      "75  final_grid_model_75  0.929642  \n",
      "76  final_grid_model_21  0.928740  \n",
      "77  final_grid_model_20  0.928121  \n",
      "78  final_grid_model_35  0.925218  \n",
      "79  final_grid_model_34  0.924289  \n",
      "80  final_grid_model_73  0.923077  \n",
      "81  final_grid_model_56  0.922964  \n",
      "82  final_grid_model_26  0.920147  \n",
      "83   final_grid_model_9  0.919639  \n",
      "84  final_grid_model_74  0.919386  \n",
      "85  final_grid_model_36  0.915103  \n",
      "86   final_grid_model_3  0.914990  \n",
      "87  final_grid_model_94  0.914934  \n",
      "88  final_grid_model_63  0.904959  \n",
      "89  final_grid_model_72  0.904283  \n",
      "90   final_grid_model_1  0.901183  \n",
      "91  final_grid_model_28  0.871654  \n",
      "92  final_grid_model_70  0.811891  \n",
      "93  final_grid_model_58  0.811412  \n",
      "94  final_grid_model_86  0.807101  \n",
      "95  final_grid_model_51  0.806960  \n",
      "96  final_grid_model_98  0.798535  \n",
      "97  final_grid_model_44  0.791124  \n",
      "98   final_grid_model_8  0.772837  \n",
      "99  final_grid_model_95  0.669992  \n",
      "\n",
      "[100 rows x 13 columns]\n",
      "\n"
     ]
    }
   ],
   "source": [
    "## Sort the grid models by AUC\n",
    "sorted_final_grid = final_grid.get_grid(sort_by='auc',decreasing=True)\n",
    "\n",
    "print sorted_final_grid"
   ]
  },
  {
   "cell_type": "markdown",
   "metadata": {},
   "source": [
    "You can also see the results of the grid search in [Flow](http://localhost:54321/):\n",
    "![alt text](./final_grid.png \"Final Grid Search Results in Flow\")"
   ]
  },
  {
   "cell_type": "code",
   "execution_count": null,
   "metadata": {
    "collapsed": true
   },
   "outputs": [],
   "source": [
    "sorted_final_grid"
   ]
  },
  {
   "cell_type": "markdown",
   "metadata": {},
   "source": [
    "## Model Inspection and Final Test Set Scoring\n",
    "\n",
    "Let's see how well the best model of the grid search (as judged by validation set AUC) does on the held out test set:"
   ]
  },
  {
   "cell_type": "code",
   "execution_count": 21,
   "metadata": {
    "collapsed": false
   },
   "outputs": [],
   "source": [
    "#Get the best model from the list (the model name listed at the top of the table)\n",
    "best_model = h2o.get_model(sorted_final_grid.sorted_metric_table()['model_ids'][0])\n",
    "performance_best_model = best_model.model_performance(test)"
   ]
  },
  {
   "cell_type": "markdown",
   "metadata": {},
   "source": [
    "Good news. It does as well on the test set as on the validation set, so it looks like our best GBM model generalizes well to the unseen test set:"
   ]
  },
  {
   "cell_type": "code",
   "execution_count": 22,
   "metadata": {
    "collapsed": false
   },
   "outputs": [
    {
     "name": "stdout",
     "output_type": "stream",
     "text": [
      "0.971256772829\n"
     ]
    }
   ],
   "source": [
    "#Get the performance on the test model\n",
    "print performance_best_model.auc()"
   ]
  },
  {
   "cell_type": "markdown",
   "metadata": {},
   "source": [
    "We can inspect the winning model's parameters:"
   ]
  },
  {
   "cell_type": "code",
   "execution_count": 23,
   "metadata": {
    "collapsed": false
   },
   "outputs": [
    {
     "data": {
      "text/plain": [
       "['learn_rate = 0.05',\n",
       " 'fold_column = None',\n",
       " 'col_sample_rate_per_tree = 0.94',\n",
       " 'learn_rate_annealing = 0.99',\n",
       " 'score_tree_interval = 10',\n",
       " 'sample_rate_per_class = None',\n",
       " 'seed = 1234',\n",
       " 'keep_cross_validation_predictions = False',\n",
       " \"model_id = {u'URL': u'/4/Models/final_grid_model_68', u'type': u'Key<Model>', u'name': u'final_grid_model_68', u'__meta': {u'schema_name': u'ModelKeyV3', u'schema_version': 3, u'schema_type': u'Key<Model>'}}\",\n",
       " 'nfolds = 0',\n",
       " 'max_abs_leafnode_pred = 1.79769313486e+308',\n",
       " 'offset_column = None',\n",
       " 'quantile_alpha = 0.5',\n",
       " 'stopping_tolerance = 0.0001',\n",
       " 'fold_assignment = AUTO',\n",
       " \"training_frame = {u'URL': u'/4/Frames/train.hex', u'type': u'Key<Frame>', u'name': u'train.hex', u'__meta': {u'schema_name': u'FrameKeyV3', u'schema_version': 3, u'schema_type': u'Key<Frame>'}}\",\n",
       " 'max_runtime_secs = 3438.745',\n",
       " 'checkpoint = None',\n",
       " 'balance_classes = False',\n",
       " 'r2_stopping = 0.999999',\n",
       " \"validation_frame = {u'URL': u'/4/Frames/valid.hex', u'type': u'Key<Frame>', u'name': u'valid.hex', u'__meta': {u'schema_name': u'FrameKeyV3', u'schema_version': 3, u'schema_type': u'Key<Frame>'}}\",\n",
       " 'max_depth = 28',\n",
       " \"response_column = {u'is_member_of_frames': None, u'column_name': u'survived', u'__meta': {u'schema_name': u'ColSpecifierV3', u'schema_version': 3, u'schema_type': u'VecSpecifier'}}\",\n",
       " 'build_tree_one_node = False',\n",
       " 'ntrees = 10000',\n",
       " 'min_split_improvement = 0.0',\n",
       " \"ignored_columns = [u'name']\",\n",
       " 'tweedie_power = 1.5',\n",
       " 'min_rows = 2.0',\n",
       " 'max_confusion_matrix_size = 20',\n",
       " 'score_each_iteration = False',\n",
       " 'nbins_top_level = 1024',\n",
       " 'max_after_balance_size = 5.0',\n",
       " 'nbins = 32',\n",
       " 'histogram_type = QuantilesGlobal',\n",
       " 'col_sample_rate = 0.49',\n",
       " 'stopping_metric = AUC',\n",
       " 'weights_column = None',\n",
       " 'stopping_rounds = 5',\n",
       " 'col_sample_rate_change_per_level = 1.04',\n",
       " 'max_hit_ratio_k = 0',\n",
       " 'nbins_cats = 256',\n",
       " 'sample_rate = 0.86',\n",
       " 'distribution = bernoulli',\n",
       " 'class_sampling_factors = None',\n",
       " 'ignore_const_cols = True',\n",
       " 'keep_cross_validation_fold_assignment = False']"
      ]
     },
     "execution_count": 23,
     "metadata": {},
     "output_type": "execute_result"
    }
   ],
   "source": [
    "params_list = []\n",
    "for key, value in best_model.params.iteritems():\n",
    "    params_list.append(str(key)+\" = \"+str(value['actual']))\n",
    "params_list"
   ]
  },
  {
   "cell_type": "markdown",
   "metadata": {},
   "source": [
    "Now we can confirm that these parameters are generally sound, by building a GBM model on the whole dataset (instead of the 60%) and using internal 5-fold cross-validation (re-using all other parameters including the seed):"
   ]
  },
  {
   "cell_type": "code",
   "execution_count": 25,
   "metadata": {
    "collapsed": false
   },
   "outputs": [],
   "source": [
    "gbm = h2o.get_model(sorted_final_grid.sorted_metric_table()['model_ids'][0])\n",
    "#get the parameters from the Random grid search model and modify them slightly\n",
    "params = gbm.params\n",
    "new_params = {\"nfolds\":5, \"model_id\":None}\n",
    "for key in new_params.keys():\n",
    "    params[key]['actual'] = new_params[key] \n",
    "gbm_best = h2o.H2OGradientBoostingEstimator()\n",
    "for key in params.keys():\n",
    "    if key in dir(gbm_best) and getattr(gbm_best,key) != params[key]['actual']:\n",
    "        setattr(gbm_best,key,params[key]['actual']) "
   ]
  },
  {
   "cell_type": "code",
   "execution_count": 26,
   "metadata": {
    "collapsed": false
   },
   "outputs": [
    {
     "name": "stdout",
     "output_type": "stream",
     "text": [
      "\n",
      "gbm Model Build Progress: [##################################################] 100%\n"
     ]
    }
   ],
   "source": [
    "gbm_best.train(x=predictors, y=response, training_frame=df)"
   ]
  },
  {
   "cell_type": "code",
   "execution_count": 27,
   "metadata": {
    "collapsed": false,
    "scrolled": true
   },
   "outputs": [
    {
     "name": "stdout",
     "output_type": "stream",
     "text": [
      "\n",
      "Cross-Validation Metrics Summary: \n"
     ]
    },
    {
     "data": {
      "text/html": [
       "<div style=\"overflow:auto\"><table style=\"width:50%\"><tr><td><b></b></td>\n",
       "<td><b>mean</b></td>\n",
       "<td><b>sd</b></td>\n",
       "<td><b>cv_1_valid</b></td>\n",
       "<td><b>cv_2_valid</b></td>\n",
       "<td><b>cv_3_valid</b></td>\n",
       "<td><b>cv_4_valid</b></td>\n",
       "<td><b>cv_5_valid</b></td></tr>\n",
       "<tr><td>F0point5</td>\n",
       "<td>0.9082877</td>\n",
       "<td>0.0174698</td>\n",
       "<td>0.9448819</td>\n",
       "<td>0.8739837</td>\n",
       "<td>0.8935743</td>\n",
       "<td>0.9034908</td>\n",
       "<td>0.9255079</td></tr>\n",
       "<tr><td>F1</td>\n",
       "<td>0.8978795</td>\n",
       "<td>0.0085111</td>\n",
       "<td>0.9099526</td>\n",
       "<td>0.8820513</td>\n",
       "<td>0.8989899</td>\n",
       "<td>0.9119171</td>\n",
       "<td>0.8864865</td></tr>\n",
       "<tr><td>F2</td>\n",
       "<td>0.8886758</td>\n",
       "<td>0.0168452</td>\n",
       "<td>0.8775137</td>\n",
       "<td>0.8902692</td>\n",
       "<td>0.9044715</td>\n",
       "<td>0.9205021</td>\n",
       "<td>0.8506224</td></tr>\n",
       "<tr><td>accuracy</td>\n",
       "<td>0.9236877</td>\n",
       "<td>0.0046046</td>\n",
       "<td>0.9288390</td>\n",
       "<td>0.9151291</td>\n",
       "<td>0.9224806</td>\n",
       "<td>0.9330708</td>\n",
       "<td>0.9189189</td></tr>\n",
       "<tr><td>auc</td>\n",
       "<td>0.9606385</td>\n",
       "<td>0.0066715</td>\n",
       "<td>0.9664746</td>\n",
       "<td>0.9453869</td>\n",
       "<td>0.959375</td>\n",
       "<td>0.9737173</td>\n",
       "<td>0.9582387</td></tr>\n",
       "<tr><td>err</td>\n",
       "<td>0.0763123</td>\n",
       "<td>0.0046046</td>\n",
       "<td>0.0711611</td>\n",
       "<td>0.0848708</td>\n",
       "<td>0.0775194</td>\n",
       "<td>0.0669291</td>\n",
       "<td>0.0810811</td></tr>\n",
       "<tr><td>err_count</td>\n",
       "<td>20.0</td>\n",
       "<td>1.4142135</td>\n",
       "<td>19.0</td>\n",
       "<td>23.0</td>\n",
       "<td>20.0</td>\n",
       "<td>17.0</td>\n",
       "<td>21.0</td></tr>\n",
       "<tr><td>lift_top_group</td>\n",
       "<td>2.6258688</td>\n",
       "<td>0.0998947</td>\n",
       "<td>2.3839285</td>\n",
       "<td>2.8229167</td>\n",
       "<td>2.632653</td>\n",
       "<td>2.6736841</td>\n",
       "<td>2.6161616</td></tr>\n",
       "<tr><td>logloss</td>\n",
       "<td>0.2343099</td>\n",
       "<td>0.0190066</td>\n",
       "<td>0.2362470</td>\n",
       "<td>0.2616568</td>\n",
       "<td>0.2454384</td>\n",
       "<td>0.1831158</td>\n",
       "<td>0.2450912</td></tr>\n",
       "<tr><td>max_per_class_error</td>\n",
       "<td>0.1168524</td>\n",
       "<td>0.0251726</td>\n",
       "<td>0.1428571</td>\n",
       "<td>0.1041667</td>\n",
       "<td>0.0918367</td>\n",
       "<td>0.0736842</td>\n",
       "<td>0.1717172</td></tr>\n",
       "<tr><td>mcc</td>\n",
       "<td>0.8390522</td>\n",
       "<td>0.0113806</td>\n",
       "<td>0.8559271</td>\n",
       "<td>0.8160289</td>\n",
       "<td>0.8362196</td>\n",
       "<td>0.8582395</td>\n",
       "<td>0.8288459</td></tr>\n",
       "<tr><td>mean_per_class_accuracy</td>\n",
       "<td>0.9165454</td>\n",
       "<td>0.0070778</td>\n",
       "<td>0.918894</td>\n",
       "<td>0.9107738</td>\n",
       "<td>0.9197066</td>\n",
       "<td>0.9317114</td>\n",
       "<td>0.9016414</td></tr>\n",
       "<tr><td>mean_per_class_error</td>\n",
       "<td>0.0834546</td>\n",
       "<td>0.0070778</td>\n",
       "<td>0.0811060</td>\n",
       "<td>0.0892262</td>\n",
       "<td>0.0802934</td>\n",
       "<td>0.0682887</td>\n",
       "<td>0.0983586</td></tr>\n",
       "<tr><td>mse</td>\n",
       "<td>0.0653590</td>\n",
       "<td>0.0048724</td>\n",
       "<td>0.0647037</td>\n",
       "<td>0.0717801</td>\n",
       "<td>0.0669676</td>\n",
       "<td>0.0525623</td>\n",
       "<td>0.0707811</td></tr>\n",
       "<tr><td>precision</td>\n",
       "<td>0.9159663</td>\n",
       "<td>0.0274385</td>\n",
       "<td>0.969697</td>\n",
       "<td>0.8686869</td>\n",
       "<td>0.89</td>\n",
       "<td>0.8979592</td>\n",
       "<td>0.9534883</td></tr>\n",
       "<tr><td>r2</td>\n",
       "<td>0.7223932</td>\n",
       "<td>0.0219218</td>\n",
       "<td>0.7342935</td>\n",
       "<td>0.6862141</td>\n",
       "<td>0.7157123</td>\n",
       "<td>0.7754977</td>\n",
       "<td>0.7002484</td></tr>\n",
       "<tr><td>recall</td>\n",
       "<td>0.8831476</td>\n",
       "<td>0.0251726</td>\n",
       "<td>0.8571429</td>\n",
       "<td>0.8958333</td>\n",
       "<td>0.9081632</td>\n",
       "<td>0.9263158</td>\n",
       "<td>0.8282828</td></tr>\n",
       "<tr><td>specificity</td>\n",
       "<td>0.9499432</td>\n",
       "<td>0.0163453</td>\n",
       "<td>0.9806452</td>\n",
       "<td>0.9257143</td>\n",
       "<td>0.93125</td>\n",
       "<td>0.9371069</td>\n",
       "<td>0.975</td></tr></table></div>"
      ],
      "text/plain": [
       "                         mean       sd          cv_1_valid    cv_2_valid    cv_3_valid    cv_4_valid    cv_5_valid\n",
       "-----------------------  ---------  ----------  ------------  ------------  ------------  ------------  ------------\n",
       "F0point5                 0.908288   0.0174698   0.944882      0.873984      0.893574      0.903491      0.925508\n",
       "F1                       0.89788    0.00851105  0.909953      0.882051      0.89899       0.911917      0.886486\n",
       "F2                       0.888676   0.0168452   0.877514      0.890269      0.904471      0.920502      0.850622\n",
       "accuracy                 0.923688   0.00460463  0.928839      0.915129      0.922481      0.933071      0.918919\n",
       "auc                      0.960638   0.00667145  0.966475      0.945387      0.959375      0.973717      0.958239\n",
       "err                      0.0763123  0.00460463  0.0711611     0.0848708     0.0775194     0.0669291     0.0810811\n",
       "err_count                20         1.41421     19            23            20            17            21\n",
       "lift_top_group           2.62587    0.0998947   2.38393       2.82292       2.63265       2.67368       2.61616\n",
       "logloss                  0.23431    0.0190066   0.236247      0.261657      0.245438      0.183116      0.245091\n",
       "max_per_class_error      0.116852   0.0251726   0.142857      0.104167      0.0918367     0.0736842     0.171717\n",
       "mcc                      0.839052   0.0113806   0.855927      0.816029      0.83622       0.85824       0.828846\n",
       "mean_per_class_accuracy  0.916545   0.00707782  0.918894      0.910774      0.919707      0.931711      0.901641\n",
       "mean_per_class_error     0.0834546  0.00707782  0.081106      0.0892262     0.0802934     0.0682887     0.0983586\n",
       "mse                      0.065359   0.0048724   0.0647037     0.0717801     0.0669676     0.0525623     0.0707811\n",
       "precision                0.915966   0.0274385   0.969697      0.868687      0.89          0.897959      0.953488\n",
       "r2                       0.722393   0.0219218   0.734294      0.686214      0.715712      0.775498      0.700248\n",
       "recall                   0.883148   0.0251726   0.857143      0.895833      0.908163      0.926316      0.828283\n",
       "specificity              0.949943   0.0163453   0.980645      0.925714      0.93125       0.937107      0.975"
      ]
     },
     "metadata": {},
     "output_type": "display_data"
    },
    {
     "name": "stdout",
     "output_type": "stream",
     "text": [
      "\n"
     ]
    }
   ],
   "source": [
    "print gbm_best.cross_validation_metrics_summary()"
   ]
  },
  {
   "cell_type": "markdown",
   "metadata": {},
   "source": [
    "Ouch! So it looks like we overfit quite a bit on the validation set as the mean AUC on the 5 folds is \"only\" 96.06% +/- 0.67%. So we cannot always expect AUCs of 97% with these parameters on this dataset. So to get a better estimate of model performance, the Random hyper-parameter search could have used `nfolds = 5` (or 10, or similar) in combination with 80% of the data for training (i.e., not holding out a validation set, but only the final test set). However, this would take more time, as `nfolds+1` models will be built for every set of parameters.\n",
    "\n",
    "Instead, to save time, lets just scan through the top 5 models and cross validate their parameters with `nfolds = 5` on the entire dataset:"
   ]
  },
  {
   "cell_type": "code",
   "execution_count": 28,
   "metadata": {
    "collapsed": false
   },
   "outputs": [
    {
     "name": "stdout",
     "output_type": "stream",
     "text": [
      "\n",
      "gbm Model Build Progress: [##################################################] 100%\n",
      "final_grid_model_68\n",
      "                     auc\n",
      "mean            0.960638\n",
      "sd            0.00667145\n",
      "cv_1_valid      0.966475\n",
      "cv_2_valid      0.945387\n",
      "cv_3_valid      0.959375\n",
      "cv_4_valid      0.973717\n",
      "cv_5_valid      0.958239\n",
      "Name: 4, dtype: object\n",
      "\n",
      "gbm Model Build Progress: [##################################################] 100%\n",
      "final_grid_model_96\n",
      "                     auc\n",
      "mean            0.964915\n",
      "sd            0.00522182\n",
      "cv_1_valid      0.963191\n",
      "cv_2_valid      0.959702\n",
      "cv_3_valid      0.974298\n",
      "cv_4_valid      0.972393\n",
      "cv_5_valid      0.954987\n",
      "Name: 4, dtype: object\n",
      "\n",
      "gbm Model Build Progress: [##################################################] 100%\n",
      "final_grid_model_38\n",
      "                    auc\n",
      "mean           0.963851\n",
      "sd            0.0046032\n",
      "cv_1_valid     0.961348\n",
      "cv_2_valid     0.957351\n",
      "cv_3_valid     0.971301\n",
      "cv_4_valid      0.97193\n",
      "cv_5_valid     0.957323\n",
      "Name: 4, dtype: object\n",
      "\n",
      "gbm Model Build Progress: [##################################################] 100%\n",
      "final_grid_model_55\n",
      "                     auc\n",
      "mean            0.965745\n",
      "sd            0.00627243\n",
      "cv_1_valid      0.956221\n",
      "cv_2_valid      0.954286\n",
      "cv_3_valid      0.968686\n",
      "cv_4_valid      0.974909\n",
      "cv_5_valid      0.974621\n",
      "Name: 4, dtype: object\n",
      "\n",
      "gbm Model Build Progress: [##################################################] 100%\n",
      "final_grid_model_22\n",
      "                    auc\n",
      "mean           0.964893\n",
      "sd            0.0065438\n",
      "cv_1_valid     0.966331\n",
      "cv_2_valid     0.952857\n",
      "cv_3_valid      0.95574\n",
      "cv_4_valid     0.973651\n",
      "cv_5_valid     0.975884\n",
      "Name: 4, dtype: object\n"
     ]
    }
   ],
   "source": [
    "for i in range(5): \n",
    "    gbm = h2o.get_model(sorted_final_grid.sorted_metric_table()['model_ids'][i])\n",
    "    #get the parameters from the Random grid search model and modify them slightly\n",
    "    params = gbm.params\n",
    "    new_params = {\"nfolds\":5, \"model_id\":None}\n",
    "    for key in new_params.keys():\n",
    "        params[key]['actual'] = new_params[key]\n",
    "    new_model = h2o.H2OGradientBoostingEstimator()\n",
    "    for key in params.keys():\n",
    "        if key in dir(new_model) and getattr(new_model,key) != params[key]['actual']:\n",
    "            setattr(new_model,key,params[key]['actual'])\n",
    "    new_model.train(x = predictors, y = response, training_frame = df)  \n",
    "    cv_summary = new_model.cross_validation_metrics_summary().as_data_frame()\n",
    "    print(gbm.model_id)\n",
    "    print(cv_summary.iloc[4]) ## AUC"
   ]
  },
  {
   "cell_type": "markdown",
   "metadata": {},
   "source": [
    "The avid reader might have noticed that we just implicitly did further parameter tuning using the \"final\" test set (which is part of the entire dataset `df`), which is not good practice - one is not supposed to use the \"final\" test set more than once. Hence, we're not going to pick a different \"best\" model, but we're just learning about the variance in AUCs. It turns out, for this tiny dataset, that the variance is rather large, which is not surprising.\n",
    "\n",
    "Keeping the same \"best\" model, we can make test set predictions as follows:"
   ]
  },
  {
   "cell_type": "code",
   "execution_count": 29,
   "metadata": {
    "collapsed": false
   },
   "outputs": [
    {
     "name": "stdout",
     "output_type": "stream",
     "text": [
      "\n",
      "gbm prediction Progress: [##################################################] 100%\n"
     ]
    },
    {
     "data": {
      "text/html": [
       "<table>\n",
       "<tr><th style=\"text-align: right;\">  predict</th><th style=\"text-align: right;\">       p0</th><th style=\"text-align: right;\">       p1</th></tr>\n",
       "<tr><td style=\"text-align: right;\">        0</td><td style=\"text-align: right;\">0.980559 </td><td style=\"text-align: right;\">0.0194406</td></tr>\n",
       "<tr><td style=\"text-align: right;\">        0</td><td style=\"text-align: right;\">0.980512 </td><td style=\"text-align: right;\">0.019488 </td></tr>\n",
       "<tr><td style=\"text-align: right;\">        0</td><td style=\"text-align: right;\">0.81431  </td><td style=\"text-align: right;\">0.18569  </td></tr>\n",
       "<tr><td style=\"text-align: right;\">        1</td><td style=\"text-align: right;\">0.0212124</td><td style=\"text-align: right;\">0.978788 </td></tr>\n",
       "<tr><td style=\"text-align: right;\">        1</td><td style=\"text-align: right;\">0.025281 </td><td style=\"text-align: right;\">0.974719 </td></tr>\n",
       "<tr><td style=\"text-align: right;\">        0</td><td style=\"text-align: right;\">0.92056  </td><td style=\"text-align: right;\">0.0794398</td></tr>\n",
       "<tr><td style=\"text-align: right;\">        1</td><td style=\"text-align: right;\">0.0322029</td><td style=\"text-align: right;\">0.967797 </td></tr>\n",
       "<tr><td style=\"text-align: right;\">        1</td><td style=\"text-align: right;\">0.0279367</td><td style=\"text-align: right;\">0.972063 </td></tr>\n",
       "<tr><td style=\"text-align: right;\">        1</td><td style=\"text-align: right;\">0.0304842</td><td style=\"text-align: right;\">0.969516 </td></tr>\n",
       "<tr><td style=\"text-align: right;\">        0</td><td style=\"text-align: right;\">0.906846 </td><td style=\"text-align: right;\">0.0931544</td></tr>\n",
       "</table>"
      ]
     },
     "metadata": {},
     "output_type": "display_data"
    },
    {
     "data": {
      "text/plain": []
     },
     "execution_count": 29,
     "metadata": {},
     "output_type": "execute_result"
    }
   ],
   "source": [
    "preds = best_model.predict(test)\n",
    "preds.head()"
   ]
  },
  {
   "cell_type": "markdown",
   "metadata": {},
   "source": [
    "Note that the label (survived or not) is predicted as well (in the first predict column), and it uses the threshold with the highest F1 score (here: 0.528098) to make labels from the probabilities for survival (`p1`). The probability for death (`p0`) is given for convenience, as it is just `1-p1`."
   ]
  },
  {
   "cell_type": "code",
   "execution_count": 30,
   "metadata": {
    "collapsed": false
   },
   "outputs": [
    {
     "name": "stdout",
     "output_type": "stream",
     "text": [
      "\n",
      "ModelMetricsBinomial: gbm\n",
      "** Reported on test data. **\n",
      "\n",
      "MSE: 0.0479062825655\n",
      "R^2: 0.797316874055\n",
      "LogLoss: 0.178131262416\n",
      "Mean Per-Class Error: 0.0676810369118\n",
      "AUC: 0.974049027895\n",
      "Gini: 0.94809805579\n",
      "\n",
      "Confusion Matrix (Act/Pred) for max f1 @ threshold = 0.528097833353: \n"
     ]
    },
    {
     "data": {
      "text/html": [
       "<div style=\"overflow:auto\"><table style=\"width:50%\"><tr><td><b></b></td>\n",
       "<td><b>0</b></td>\n",
       "<td><b>1</b></td>\n",
       "<td><b>Error</b></td>\n",
       "<td><b>Rate</b></td></tr>\n",
       "<tr><td>0</td>\n",
       "<td>165.0</td>\n",
       "<td>4.0</td>\n",
       "<td>0.0237</td>\n",
       "<td> (4.0/169.0)</td></tr>\n",
       "<tr><td>1</td>\n",
       "<td>12.0</td>\n",
       "<td>93.0</td>\n",
       "<td>0.1143</td>\n",
       "<td> (12.0/105.0)</td></tr>\n",
       "<tr><td>Total</td>\n",
       "<td>177.0</td>\n",
       "<td>97.0</td>\n",
       "<td>0.0584</td>\n",
       "<td> (16.0/274.0)</td></tr></table></div>"
      ],
      "text/plain": [
       "       0    1    Error    Rate\n",
       "-----  ---  ---  -------  ------------\n",
       "0      165  4    0.0237   (4.0/169.0)\n",
       "1      12   93   0.1143   (12.0/105.0)\n",
       "Total  177  97   0.0584   (16.0/274.0)"
      ]
     },
     "metadata": {},
     "output_type": "display_data"
    },
    {
     "name": "stdout",
     "output_type": "stream",
     "text": [
      "\n",
      "Maximum Metrics: Maximum metrics at their respective thresholds\n",
      "\n"
     ]
    },
    {
     "data": {
      "text/html": [
       "<div style=\"overflow:auto\"><table style=\"width:50%\"><tr><td><b>metric</b></td>\n",
       "<td><b>threshold</b></td>\n",
       "<td><b>value</b></td>\n",
       "<td><b>idx</b></td></tr>\n",
       "<tr><td>max f1</td>\n",
       "<td>0.5280978</td>\n",
       "<td>0.9207921</td>\n",
       "<td>96.0</td></tr>\n",
       "<tr><td>max f2</td>\n",
       "<td>0.1708529</td>\n",
       "<td>0.9269663</td>\n",
       "<td>113.0</td></tr>\n",
       "<tr><td>max f0point5</td>\n",
       "<td>0.7679312</td>\n",
       "<td>0.9594883</td>\n",
       "<td>90.0</td></tr>\n",
       "<tr><td>max accuracy</td>\n",
       "<td>0.7679312</td>\n",
       "<td>0.9416058</td>\n",
       "<td>90.0</td></tr>\n",
       "<tr><td>max precision</td>\n",
       "<td>0.9794488</td>\n",
       "<td>1.0</td>\n",
       "<td>0.0</td></tr>\n",
       "<tr><td>max recall</td>\n",
       "<td>0.0194250</td>\n",
       "<td>1.0</td>\n",
       "<td>206.0</td></tr>\n",
       "<tr><td>max specificity</td>\n",
       "<td>0.9794488</td>\n",
       "<td>1.0</td>\n",
       "<td>0.0</td></tr>\n",
       "<tr><td>max absolute_MCC</td>\n",
       "<td>0.7679312</td>\n",
       "<td>0.8786916</td>\n",
       "<td>90.0</td></tr>\n",
       "<tr><td>max min_per_class_accuracy</td>\n",
       "<td>0.2044670</td>\n",
       "<td>0.9289941</td>\n",
       "<td>109.0</td></tr>\n",
       "<tr><td>max mean_per_class_accuracy</td>\n",
       "<td>0.2524734</td>\n",
       "<td>0.9323190</td>\n",
       "<td>106.0</td></tr></table></div>"
      ],
      "text/plain": [
       "metric                       threshold    value     idx\n",
       "---------------------------  -----------  --------  -----\n",
       "max f1                       0.528098     0.920792  96\n",
       "max f2                       0.170853     0.926966  113\n",
       "max f0point5                 0.767931     0.959488  90\n",
       "max accuracy                 0.767931     0.941606  90\n",
       "max precision                0.979449     1         0\n",
       "max recall                   0.019425     1         206\n",
       "max specificity              0.979449     1         0\n",
       "max absolute_MCC             0.767931     0.878692  90\n",
       "max min_per_class_accuracy   0.204467     0.928994  109\n",
       "max mean_per_class_accuracy  0.252473     0.932319  106"
      ]
     },
     "metadata": {},
     "output_type": "display_data"
    },
    {
     "name": "stdout",
     "output_type": "stream",
     "text": [
      "\n",
      "Gains/Lift Table: Avg response rate: 38.32 %\n",
      "\n"
     ]
    },
    {
     "data": {
      "text/html": [
       "<div style=\"overflow:auto\"><table style=\"width:50%\"><tr><td><b></b></td>\n",
       "<td><b>group</b></td>\n",
       "<td><b>cumulative_data_fraction</b></td>\n",
       "<td><b>lower_threshold</b></td>\n",
       "<td><b>lift</b></td>\n",
       "<td><b>cumulative_lift</b></td>\n",
       "<td><b>response_rate</b></td>\n",
       "<td><b>cumulative_response_rate</b></td>\n",
       "<td><b>capture_rate</b></td>\n",
       "<td><b>cumulative_capture_rate</b></td>\n",
       "<td><b>gain</b></td>\n",
       "<td><b>cumulative_gain</b></td></tr>\n",
       "<tr><td></td>\n",
       "<td>1</td>\n",
       "<td>0.0109489</td>\n",
       "<td>0.9789164</td>\n",
       "<td>2.6095238</td>\n",
       "<td>2.6095238</td>\n",
       "<td>1.0</td>\n",
       "<td>1.0</td>\n",
       "<td>0.0285714</td>\n",
       "<td>0.0285714</td>\n",
       "<td>160.9523810</td>\n",
       "<td>160.9523810</td></tr>\n",
       "<tr><td></td>\n",
       "<td>2</td>\n",
       "<td>0.0218978</td>\n",
       "<td>0.9786176</td>\n",
       "<td>2.6095238</td>\n",
       "<td>2.6095238</td>\n",
       "<td>1.0</td>\n",
       "<td>1.0</td>\n",
       "<td>0.0285714</td>\n",
       "<td>0.0571429</td>\n",
       "<td>160.9523810</td>\n",
       "<td>160.9523810</td></tr>\n",
       "<tr><td></td>\n",
       "<td>3</td>\n",
       "<td>0.0328467</td>\n",
       "<td>0.9784185</td>\n",
       "<td>2.6095238</td>\n",
       "<td>2.6095238</td>\n",
       "<td>1.0</td>\n",
       "<td>1.0</td>\n",
       "<td>0.0285714</td>\n",
       "<td>0.0857143</td>\n",
       "<td>160.9523810</td>\n",
       "<td>160.9523810</td></tr>\n",
       "<tr><td></td>\n",
       "<td>4</td>\n",
       "<td>0.0401460</td>\n",
       "<td>0.9780194</td>\n",
       "<td>2.6095238</td>\n",
       "<td>2.6095238</td>\n",
       "<td>1.0</td>\n",
       "<td>1.0</td>\n",
       "<td>0.0190476</td>\n",
       "<td>0.1047619</td>\n",
       "<td>160.9523810</td>\n",
       "<td>160.9523810</td></tr>\n",
       "<tr><td></td>\n",
       "<td>5</td>\n",
       "<td>0.0510949</td>\n",
       "<td>0.9778627</td>\n",
       "<td>2.6095238</td>\n",
       "<td>2.6095238</td>\n",
       "<td>1.0</td>\n",
       "<td>1.0</td>\n",
       "<td>0.0285714</td>\n",
       "<td>0.1333333</td>\n",
       "<td>160.9523810</td>\n",
       "<td>160.9523810</td></tr>\n",
       "<tr><td></td>\n",
       "<td>6</td>\n",
       "<td>0.1021898</td>\n",
       "<td>0.9751409</td>\n",
       "<td>2.6095238</td>\n",
       "<td>2.6095238</td>\n",
       "<td>1.0</td>\n",
       "<td>1.0</td>\n",
       "<td>0.1333333</td>\n",
       "<td>0.2666667</td>\n",
       "<td>160.9523810</td>\n",
       "<td>160.9523810</td></tr>\n",
       "<tr><td></td>\n",
       "<td>7</td>\n",
       "<td>0.1496350</td>\n",
       "<td>0.9701773</td>\n",
       "<td>2.6095238</td>\n",
       "<td>2.6095238</td>\n",
       "<td>1.0</td>\n",
       "<td>1.0</td>\n",
       "<td>0.1238095</td>\n",
       "<td>0.3904762</td>\n",
       "<td>160.9523810</td>\n",
       "<td>160.9523810</td></tr>\n",
       "<tr><td></td>\n",
       "<td>8</td>\n",
       "<td>0.2007299</td>\n",
       "<td>0.9675483</td>\n",
       "<td>2.6095238</td>\n",
       "<td>2.6095238</td>\n",
       "<td>1.0</td>\n",
       "<td>1.0</td>\n",
       "<td>0.1333333</td>\n",
       "<td>0.5238095</td>\n",
       "<td>160.9523810</td>\n",
       "<td>160.9523810</td></tr>\n",
       "<tr><td></td>\n",
       "<td>9</td>\n",
       "<td>0.2992701</td>\n",
       "<td>0.9100651</td>\n",
       "<td>2.6095238</td>\n",
       "<td>2.6095238</td>\n",
       "<td>1.0</td>\n",
       "<td>1.0</td>\n",
       "<td>0.2571429</td>\n",
       "<td>0.7809524</td>\n",
       "<td>160.9523810</td>\n",
       "<td>160.9523810</td></tr>\n",
       "<tr><td></td>\n",
       "<td>10</td>\n",
       "<td>0.4014599</td>\n",
       "<td>0.2036354</td>\n",
       "<td>1.4911565</td>\n",
       "<td>2.3248485</td>\n",
       "<td>0.5714286</td>\n",
       "<td>0.8909091</td>\n",
       "<td>0.1523810</td>\n",
       "<td>0.9333333</td>\n",
       "<td>49.1156463</td>\n",
       "<td>132.4848485</td></tr>\n",
       "<tr><td></td>\n",
       "<td>11</td>\n",
       "<td>0.5</td>\n",
       "<td>0.0564863</td>\n",
       "<td>0.2899471</td>\n",
       "<td>1.9238095</td>\n",
       "<td>0.1111111</td>\n",
       "<td>0.7372263</td>\n",
       "<td>0.0285714</td>\n",
       "<td>0.9619048</td>\n",
       "<td>-71.0052910</td>\n",
       "<td>92.3809524</td></tr>\n",
       "<tr><td></td>\n",
       "<td>12</td>\n",
       "<td>0.5985401</td>\n",
       "<td>0.0304386</td>\n",
       "<td>0.0966490</td>\n",
       "<td>1.6229965</td>\n",
       "<td>0.0370370</td>\n",
       "<td>0.6219512</td>\n",
       "<td>0.0095238</td>\n",
       "<td>0.9714286</td>\n",
       "<td>-90.3350970</td>\n",
       "<td>62.2996516</td></tr>\n",
       "<tr><td></td>\n",
       "<td>13</td>\n",
       "<td>0.7007299</td>\n",
       "<td>0.0216223</td>\n",
       "<td>0.1863946</td>\n",
       "<td>1.4134921</td>\n",
       "<td>0.0714286</td>\n",
       "<td>0.5416667</td>\n",
       "<td>0.0190476</td>\n",
       "<td>0.9904762</td>\n",
       "<td>-81.3605442</td>\n",
       "<td>41.3492063</td></tr>\n",
       "<tr><td></td>\n",
       "<td>14</td>\n",
       "<td>0.7992701</td>\n",
       "<td>0.0179323</td>\n",
       "<td>0.0966490</td>\n",
       "<td>1.2511416</td>\n",
       "<td>0.0370370</td>\n",
       "<td>0.4794521</td>\n",
       "<td>0.0095238</td>\n",
       "<td>1.0</td>\n",
       "<td>-90.3350970</td>\n",
       "<td>25.1141553</td></tr>\n",
       "<tr><td></td>\n",
       "<td>15</td>\n",
       "<td>0.8978102</td>\n",
       "<td>0.0144921</td>\n",
       "<td>0.0</td>\n",
       "<td>1.1138211</td>\n",
       "<td>0.0</td>\n",
       "<td>0.4268293</td>\n",
       "<td>0.0</td>\n",
       "<td>1.0</td>\n",
       "<td>-100.0</td>\n",
       "<td>11.3821138</td></tr>\n",
       "<tr><td></td>\n",
       "<td>16</td>\n",
       "<td>1.0</td>\n",
       "<td>0.0131715</td>\n",
       "<td>0.0</td>\n",
       "<td>1.0</td>\n",
       "<td>0.0</td>\n",
       "<td>0.3832117</td>\n",
       "<td>0.0</td>\n",
       "<td>1.0</td>\n",
       "<td>-100.0</td>\n",
       "<td>0.0</td></tr></table></div>"
      ],
      "text/plain": [
       "    group    cumulative_data_fraction    lower_threshold    lift      cumulative_lift    response_rate    cumulative_response_rate    capture_rate    cumulative_capture_rate    gain      cumulative_gain\n",
       "--  -------  --------------------------  -----------------  --------  -----------------  ---------------  --------------------------  --------------  -------------------------  --------  -----------------\n",
       "    1        0.0109489                   0.978916           2.60952   2.60952            1                1                           0.0285714       0.0285714                  160.952   160.952\n",
       "    2        0.0218978                   0.978618           2.60952   2.60952            1                1                           0.0285714       0.0571429                  160.952   160.952\n",
       "    3        0.0328467                   0.978419           2.60952   2.60952            1                1                           0.0285714       0.0857143                  160.952   160.952\n",
       "    4        0.040146                    0.978019           2.60952   2.60952            1                1                           0.0190476       0.104762                   160.952   160.952\n",
       "    5        0.0510949                   0.977863           2.60952   2.60952            1                1                           0.0285714       0.133333                   160.952   160.952\n",
       "    6        0.10219                     0.975141           2.60952   2.60952            1                1                           0.133333        0.266667                   160.952   160.952\n",
       "    7        0.149635                    0.970177           2.60952   2.60952            1                1                           0.12381         0.390476                   160.952   160.952\n",
       "    8        0.20073                     0.967548           2.60952   2.60952            1                1                           0.133333        0.52381                    160.952   160.952\n",
       "    9        0.29927                     0.910065           2.60952   2.60952            1                1                           0.257143        0.780952                   160.952   160.952\n",
       "    10       0.40146                     0.203635           1.49116   2.32485            0.571429         0.890909                    0.152381        0.933333                   49.1156   132.485\n",
       "    11       0.5                         0.0564863          0.289947  1.92381            0.111111         0.737226                    0.0285714       0.961905                   -71.0053  92.381\n",
       "    12       0.59854                     0.0304386          0.096649  1.623              0.037037         0.621951                    0.00952381      0.971429                   -90.3351  62.2997\n",
       "    13       0.70073                     0.0216223          0.186395  1.41349            0.0714286        0.541667                    0.0190476       0.990476                   -81.3605  41.3492\n",
       "    14       0.79927                     0.0179323          0.096649  1.25114            0.037037         0.479452                    0.00952381      1                          -90.3351  25.1142\n",
       "    15       0.89781                     0.0144921          0         1.11382            0                0.426829                    0               1                          -100      11.3821\n",
       "    16       1                           0.0131715          0         1                  0                0.383212                    0               1                          -100      0"
      ]
     },
     "metadata": {},
     "output_type": "display_data"
    },
    {
     "name": "stdout",
     "output_type": "stream",
     "text": [
      "\n"
     ]
    },
    {
     "data": {
      "text/plain": []
     },
     "execution_count": 30,
     "metadata": {},
     "output_type": "execute_result"
    }
   ],
   "source": [
    "best_model.model_performance(valid)"
   ]
  },
  {
   "cell_type": "markdown",
   "metadata": {},
   "source": [
    "You can also see the \"best\" model in more detail in [Flow](http://localhost:54321/):\n",
    "![alt text](./best_gbm1.png \"Best GBM from Grid Search in Flow\")\n",
    "![alt text](./best_gbm2.png \"Best GBM from Grid Search in Flow\")"
   ]
  },
  {
   "cell_type": "markdown",
   "metadata": {},
   "source": [
    "The model and the predictions can be saved to file as follows:"
   ]
  },
  {
   "cell_type": "code",
   "execution_count": 31,
   "metadata": {
    "collapsed": false,
    "scrolled": true
   },
   "outputs": [
    {
     "name": "stdout",
     "output_type": "stream",
     "text": [
      "\n",
      "Export File Progress: [##################################################] 100%\n"
     ]
    }
   ],
   "source": [
    "h2o.save_model(best_model, \"/tmp/bestModel.csv\", force=True)\n",
    "h2o.export_file(preds, \"/tmp/bestPreds.csv\", force=True)"
   ]
  },
  {
   "cell_type": "code",
   "execution_count": 32,
   "metadata": {
    "collapsed": true
   },
   "outputs": [],
   "source": [
    "#h2o.download_pojo(best_model)"
   ]
  },
  {
   "cell_type": "markdown",
   "metadata": {},
   "source": [
    "The model can also be exported as a plain old Java object (POJO) for H2O-independent (standalone/Storm/Kafka/UDF) scoring in any Java environment."
   ]
  },
  {
   "cell_type": "markdown",
   "metadata": {
    "collapsed": true
   },
   "source": [
    "```\n",
    "/*\n",
    "  Licensed under the Apache License, Version 2.0\n",
    "    http://www.apache.org/licenses/LICENSE-2.0.html\n",
    "\n",
    "  AUTOGENERATED BY H2O at 2016-05-27T22:11:18.485-07:00\n",
    "  3.8.2.6\n",
    "  \n",
    "  Standalone prediction code with sample test data for GBMModel named final_grid_model_46\n",
    "\n",
    "  How to download, compile and execute:\n",
    "      mkdir tmpdir\n",
    "      cd tmpdir\n",
    "      curl http://127.0.0.1:54321/3/h2o-genmodel.jar > h2o-genmodel.jar\n",
    "      curl http://127.0.0.1:54321/3/Models.java/final_grid_model_46 > final_grid_model_46.java\n",
    "      javac -cp h2o-genmodel.jar -J-Xmx2g -J-XX:MaxPermSize=128m final_grid_model_46.java\n",
    "\n",
    "     (Note:  Try java argument -XX:+PrintCompilation to show runtime JIT compiler behavior.)\n",
    "*/\n",
    "...\n",
    "class final_grid_model_46_Tree_289_class_0 {\n",
    "  static final double score0(double[] data) {\n",
    "    double pred =      (!Double.isNaN(data[9]) && data[9 /* boat */] != 12.0f ? \n",
    "         (data[9 /* boat */] <13.003977f ? \n",
    "             (data[9 /* boat */] <11.504464f ? \n",
    "                 (data[1 /* sex */] <0.5f ? \n",
    "                     (data[6 /* fare */] <24.978184f ? \n",
    "                        0.0027945167f : \n",
    "                         (data[11 /* home.dest */] <132.0f ? \n",
    "                            0.0027875851f : \n",
    "                             (data[11 /* home.dest */] <265.5f ? \n",
    "                                 (data[6 /* fare */] <49.690052f ? \n",
    "                                    0.002784563f : \n",
    "                                    0.0027828787f) : \n",
    "                                0.0027856496f))) : \n",
    "                    0.002798641f) : \n",
    "                0.0028186426f) : \n",
    "            0.00350058f) : \n",
    "...\n",
    "```"
   ]
  },
  {
   "cell_type": "markdown",
   "metadata": {},
   "source": [
    "## Ensembling Techniques\n",
    "\n",
    "After learning above that the variance of the test set AUC of the top few models was rather large, we might be able to turn this into our advantage by using ensembling techniques. The simplest one is taking the average of the predictions (survival probabilities) of the top `k` grid search model predictions (here, we use `k=10`):"
   ]
  },
  {
   "cell_type": "code",
   "execution_count": 34,
   "metadata": {
    "collapsed": false
   },
   "outputs": [
    {
     "name": "stdout",
     "output_type": "stream",
     "text": [
      "\n",
      "gbm prediction Progress: [##################################################] 100%\n",
      "\n",
      "gbm prediction Progress: [##################################################] 100%\n",
      "\n",
      "gbm prediction Progress: [##################################################] 100%\n",
      "\n",
      "gbm prediction Progress: [##################################################] 100%\n",
      "\n",
      "gbm prediction Progress: [##################################################] 100%\n",
      "\n",
      "gbm prediction Progress: [##################################################] 100%\n",
      "\n",
      "gbm prediction Progress: [##################################################] 100%\n",
      "\n",
      "gbm prediction Progress: [##################################################] 100%\n",
      "\n",
      "gbm prediction Progress: [##################################################] 100%\n",
      "\n",
      "gbm prediction Progress: [##################################################] 100%\n"
     ]
    }
   ],
   "source": [
    "prob = None\n",
    "k=10\n",
    "for i in range(0,k): \n",
    "    gbm = h2o.get_model(sorted_final_grid.sorted_metric_table()['model_ids'][i])\n",
    "    if (prob is None):\n",
    "        prob = gbm.predict(test)[\"p1\"]\n",
    "    else:\n",
    "        prob = prob + gbm.predict(test)[\"p1\"]\n",
    "prob = prob/k"
   ]
  },
  {
   "cell_type": "markdown",
   "metadata": {},
   "source": [
    "We now have a blended probability of survival for each person on the Titanic."
   ]
  },
  {
   "cell_type": "code",
   "execution_count": 35,
   "metadata": {
    "collapsed": false
   },
   "outputs": [
    {
     "data": {
      "text/html": [
       "<table>\n",
       "<tr><th style=\"text-align: right;\">       p1</th></tr>\n",
       "<tr><td style=\"text-align: right;\">0.0225892</td></tr>\n",
       "<tr><td style=\"text-align: right;\">0.0161596</td></tr>\n",
       "<tr><td style=\"text-align: right;\">0.158373 </td></tr>\n",
       "<tr><td style=\"text-align: right;\">0.985657 </td></tr>\n",
       "<tr><td style=\"text-align: right;\">0.987922 </td></tr>\n",
       "<tr><td style=\"text-align: right;\">0.179414 </td></tr>\n",
       "<tr><td style=\"text-align: right;\">0.956481 </td></tr>\n",
       "<tr><td style=\"text-align: right;\">0.983956 </td></tr>\n",
       "<tr><td style=\"text-align: right;\">0.962046 </td></tr>\n",
       "<tr><td style=\"text-align: right;\">0.0886235</td></tr>\n",
       "</table>"
      ]
     },
     "metadata": {},
     "output_type": "display_data"
    },
    {
     "data": {
      "text/plain": []
     },
     "execution_count": 35,
     "metadata": {},
     "output_type": "execute_result"
    }
   ],
   "source": [
    "prob.head()"
   ]
  },
  {
   "cell_type": "markdown",
   "metadata": {},
   "source": [
    "We can bring those ensemble predictions to our Python session's memory space and use other Python packages."
   ]
  },
  {
   "cell_type": "code",
   "execution_count": 36,
   "metadata": {
    "collapsed": false
   },
   "outputs": [
    {
     "data": {
      "text/plain": [
       "0.97753402933791456"
      ]
     },
     "execution_count": 36,
     "metadata": {},
     "output_type": "execute_result"
    }
   ],
   "source": [
    "from sklearn.metrics import roc_auc_score\n",
    "# convert prob and test[response] h2oframes to pandas' frames and then convert them each to numpy array\n",
    "np_array_prob = prob.as_data_frame().as_matrix()\n",
    "np_array_test = test[response].as_data_frame().as_matrix()\n",
    "probInPy = np_array_prob\n",
    "labeInPy = np_array_test\n",
    "# compare true scores (test[response]) to probability scores (prob)\n",
    "roc_auc_score(labeInPy, probInPy)"
   ]
  },
  {
   "cell_type": "markdown",
   "metadata": {},
   "source": [
    "This simple blended ensemble test set prediction has an even higher AUC than the best single model, but we need to do more validation studies, ideally using cross-validation. We leave this as an exercise for the reader - take the parameters of the top `10` models, retrain them with `nfolds=5` on the full dataset, set `keep_holdout_predictions=TRUE` and sum up their predicted probabilities, then score that with sklearn's roc_auc_score as shown above.\n",
    "\n",
    "For more sophisticated ensembling approaches, such as stacking via a superlearner, we refer to the [H2O Ensemble](https://github.com/h2oai/h2o-3/tree/master/h2o-r/ensemble) github page."
   ]
  },
  {
   "cell_type": "markdown",
   "metadata": {},
   "source": [
    "## Summary\n",
    "We learned how to build H2O GBM models for a binary classification task on a small but realistic dataset with numerical and categorical variables, with the goal to maximize the AUC (ranges from 0.5 to 1). We first established a baseline with the default model, then carefully tuned the remaining hyper-parameters without \"too much\" human guess-work. We used both Cartesian and Random hyper-parameter searches to find good models. We were able to get the AUC on a holdout test set from the low 94% range with the default model to the mid 97% after tuning, and to the high 97% with some simple ensembling technique known as blending. We performed simple cross-validation variance analysis to learn that results were slightly \"lucky\" due to the specific train/valid/test set splits, and settled to expect mid 96% AUCs instead.\n",
    "\n",
    "Note that this script and the findings therein are directly transferrable to large datasets on distributed clusters including Spark/Hadoop environments.\n",
    "\n",
    "More information can be found here [http://www.h2o.ai/docs/](http://www.h2o.ai/docs/)."
   ]
  }
 ],
 "metadata": {
  "kernelspec": {
   "display_name": "Python 2",
   "language": "python",
   "name": "python2"
  },
  "language_info": {
   "codemirror_mode": {
    "name": "ipython",
    "version": 2
   },
   "file_extension": ".py",
   "mimetype": "text/x-python",
   "name": "python",
   "nbconvert_exporter": "python",
   "pygments_lexer": "ipython2",
   "version": "2.7.11"
  }
 },
 "nbformat": 4,
 "nbformat_minor": 0
}
